{
 "cells": [
  {
   "cell_type": "markdown",
   "metadata": {},
   "source": [
    "## Purpose:\n",
    "- To scan the text file (my Resume in this case)<br>\n",
    "- To scan the text file (Job Description and resposibilities) that contains matching key words<br>\n",
    "- Return the count of matched keywords and return the missing keywords<br>\n",
    "- Use a list of technical keywords to extract the key words from the job text file."
   ]
  },
  {
   "cell_type": "code",
   "execution_count": 11,
   "metadata": {},
   "outputs": [],
   "source": [
    "#use nltk to fetch stopwords.\n",
    "\n",
    "from nltk.corpus import stopwords\n",
    "from nltk.tokenize import word_tokenize\n",
    "import string\n",
    "import nltk"
   ]
  },
  {
   "cell_type": "markdown",
   "metadata": {},
   "source": [
    "# Filtering the text files.\n",
    "## Things to be done:\n",
    "- Converted the source files into CSV using Notepad++<br>\n",
    "- Open and read the csv files<br>\n",
    "- Tokenize the content (Converting each word & characters into individual tokens)<br>\n",
    "- Removing the punctuations (, . - \"white spaces\")<br>\n",
    "- Removing Stopwords (a, the , and, an , is........): Here you can find the entire list of stopwords https://gist.github.com/sebleier/554280<br>\n",
    "- Removing the duplicate elements from the list for more accuracy.<br>\n",
    "- Converting the elements into sets (aoids duplication by default)"
   ]
  },
  {
   "cell_type": "code",
   "execution_count": 68,
   "metadata": {},
   "outputs": [
    {
     "name": "stdout",
     "output_type": "stream",
     "text": [
      "{'agile', 'interaction', 'motivation', 'access', 'detail', 'optimize', 'live', 'customer', 'protocols', 'application', 'leadership', 'big', 'configuration', 'implementation', 'maintain', 'solving', 'integration', 'linux', 'visualization', 'google', 'installation', 'break-fix', 'software', 'ui', 'mining', 'methodology', 'migrating', 'impact', 'aws', 'solutions', 'source', 'experiences', 'interface', 'attention', 'process', 'tech', 'analytics', 'input', 'optimizing', 'review', 'queries', 'structures', 'backup', 'intelligence', 'touch', 'wireframes', 'imports', 'requests', 'continuous', 'environment', 'troubleshooting', 'operating', 'product', 'network', 'management', 'critical', 'project', 'front', 'tasks', 'content', 'technology', 'audit', 'cloud', 'website', 'organization', 'identify', 'flows', 'principles', 'development', 'optimization', 'support', 'information', 'visual', 'sql', 'database', 'storage', 'servers', 'team', 'independently', 'systems', 'responsive', 'synchronize', 'skills', 'file', 'search', 'needs', 'hosting', 'user', 'repairs', 'mobile', 'metrics', 'starting', 'understanding', 'utilizing', 'recommend', 'existing', 'work', 'company', 'writing', 'science', 'oriented', 'prototypes', 'problem', 'specifications', 'continually', 'analytical', 'virtualization', 'networking', 'developer', 'workloads', 'design', 'hardware', 'prototyping', 'assign', 'teamwork', 'thinking', 'develop', 'technologies', 'methods', 'amazon', 'monitoring', 'integrating', 'training', 'code', 'end', 'apis', 'recovery', 'presentation', 'scenarios', 'web', 'deploying', 'desktop', 'emerging', 'install', 'seo', 'tablets', 'diagrams', 'implement', 'business', 'office', 'desk', 'build', 'data', 'server', 'logical', 'flexibility', 'internet', '’', 'ux', 'visualizations', 'languages', 'strategy', 'services', 'processes', 'integrated', 'performance', 'tools', 'operations', 'help', 'research', 'experience', 'computer', 'maintenance', 'security', 'interpersonal', 'capabilities', 'programming', 'passwords', 'it', 'strong', 'applications', 'based', 'qa', 'building', 'testing', 'navigation', 'merge', 'improvement', 'configure', 'microsoft', 'reporting', 'administration', 'secure', 'engineering', 'user-centered', 'documentation', 'deployment', 'databases', 'architecture', 'assurance', 'test', 'soft', 'networks', 'self', 'analyze', 'motivated', 'time', 'usability', 'system', 'open', 'changes', 'communication', 'automation', 'coding', 'platforms', 'technical', 'plan', 'modeling', 'improvements', 'engine', 'solid', 'analysis', 'scalability', 'quality', 'messaging'}\n",
      "{'requirement', 'project', 'plot', 'anaconda', 'python', 'spyder', 'design', 'html5', 'prototyping', 'develop', 'tableau', 'matplotlib', 'numpy', 'visualization', 'php', 'articulate', 'jupyterlab', 'development', 'identifying', 'notebook', 'sql', 'database', 'team', 'css3', 'sequence', 'uml', 'scenarios', 'clean', 'oracle', 'diagrams', 'analyze', 'relational', 'use-cases', 'diagram', 'mysql', 'data', 'logical', 'state', 'elicitation', 'user', 'prioratization', 'entity-relationship', 'leadreship', 'mysq', 'models', 'surveys', 'analysis', 'pandas', 'ipython'}\n",
      "{'b2b', 'passionate', 'growth', 'maintain', 'modify', 'inherently', 'self-driven', 'degrees', 'similar', 'senior', 'bachelors', 'perform', 'results', 'delivering', 'benchmarks', 'new', 'intelligence', 'excellent', 'plus', 'provide', 'initiatives', 'recommendations', 'degree', 'product', 'fuel', 'key', 'self-guided', 'management', 'critical', 'preferred', 'technology', 'happiness', 'high', 'using', 'frameworks', 'organization', 'identify', '2+', 'development', 'believe', 'sql', 'dashboards', 'communicate', 'reports', 'ways', 'root', 'people', 'skills', 'r', 'fields', 'teams', 'future', 'stem', 'mathematics', 'metrics', 'work', 'decisions', 'science', 'facilitate', 'analytical', 'join', 'curious', 'excel', 'economics', 'develop', 'committed', 'consulting', 'trends', 'code', 'write', 'group', 'marketing', 'collaborate', 'unlock', 'finance', 'business', 'scalable', 'build', 'mentioned', 'data', 'cross-functional', 'sales', 'saas', 'regularly', 'power', 'operations', 'experience', 'python', 'years', 'analyses', 'strong', 'efficient', 'ability', 'opportunities', 'variance', 'engineering', 'drive', 'monitor', 'strategic', 'background', 'cause', 'communication', 'users', 'behind', 'manner'}\n"
     ]
    }
   ],
   "source": [
    "#using content mmanager to open and read file\n",
    "#converted the text file into csv file at the source using Notepad++\n",
    "#remmoved all the unecessary code for optimization.\n",
    "# def file(path):\n",
    "#     with open( path, 'r',encoding = \"utf-8-sig\") as f2:\n",
    "#         contents_f2 = f2.readlines()\n",
    "#         list_of_skills = [y.strip().lower() for x in contents_f2 for y in x.split(' ')]\n",
    "#         set_of_skills = set(list_of_skills)\n",
    "#         set_of_skills.difference_update({'' '','to','into','/','it','of','for','and','on','a','the','in','desk','regularly'})\n",
    "#     print(set_of_skills)\n",
    "#     pass\n",
    "# #removing the empty element \n",
    "\n",
    "def file(path):\n",
    "    with open(path, 'r', encoding=\"utf-8-sig\") as f1:\n",
    "        stop_words = set(stopwords.words('english'))\n",
    "        contents_f1 = f1.read()\n",
    "        tokenized_contents_f1 = word_tokenize(contents_f1)\n",
    "        tokenized_contents_f1 = filter(lambda x: x not in string.punctuation, tokenized_contents_f1)\n",
    "        cleaned_content_f1 = filter(lambda x: x not in stop_words, tokenized_contents_f1)\n",
    "        filtered_content_f1 = [y.strip().lower() for x in cleaned_content_f1 for y in x.split(\" \")]\n",
    "        set_of_job_skills = set(filtered_content_f1)\n",
    "        print(set_of_job_skills)\n",
    "\n",
    "file('C:\\\\Users\\\\kats1\\\\Desktop\\\\Blacboard\\\\Python\\\\list_of_skills.txt')\n",
    "file('C:\\\\Users\\\\kats1\\\\Desktop\\\\Blacboard\\\\Python\\\\skills.txt')\n",
    "file('C:\\\\Users\\\\kats1\\\\Desktop\\\\Blacboard\\\\Python\\\\jobdesc.txt')\n",
    "\n"
   ]
  },
  {
   "cell_type": "code",
   "execution_count": 37,
   "metadata": {},
   "outputs": [
    {
     "name": "stdout",
     "output_type": "stream",
     "text": [
      "{'stem (science', 'operations', 'marketing', 'management consulting', 'finance', 'technology', 'technology (b2b saas is a plus)', 'and sales teams to unlock new opportunities for growth join a group of passionate people committed to delivering happiness to our users and to each other bachelors degree in business economics', 'engineering', 'mathematics) degrees or similar fields 2+ years of experience using data to facilitate business decisions; high growth', 'or business intelligence background preferred', 'excellent excel and sql skills with development experience in python or r preferred inherently curious and believe in the power of data to drive decisions strong communication and organization skills self-driven with the ability to work in a self-guided manner', 'develop analytical frameworks for future strategic initiatives and provide recommendations to senior management to drive business decisions perform variance analyses against critical benchmarks to identify the root cause behind trends build modify maintain dashboards and reports to regularly communicate results and monitor key metrics in scalable ways write efficient sql code to fuel analytical frameworks and dashboards mentioned above collaborate with cross-functional teams such as product'}\n",
      "There are 13 skills in the job requirement list\n"
     ]
    }
   ],
   "source": [
    "#open and read the text file\n",
    "with open(r'C:\\Users\\kats1\\Desktop\\Blacboard\\Python\\jobdesc.txt', 'r', encoding=\"utf-8-sig\") as f1:\n",
    "    stop_words = set(stopwords.words('english'))\n",
    "    contents_f1 = f1.readlines()\n",
    "    #tokenized_contents_f1 = word_tokenize(contents_f1)\n",
    "    #removing the punctuations\n",
    "    #tokenized_contents_f1 = filter(lambda x: x not in string.punctuation, tokenized_contents_f1)\n",
    "    #removing stopwords \n",
    "    #cleaned_content_f1 = filter(lambda x: x not in stop_words, contents_f1)\n",
    "    #all the strings are converted to lowercase and split at ','\n",
    "    filtered_content_f1 = [y.strip().lower() for x in contents_f1 for y in x.split(',')]\n",
    "    #getting rid of the duplicate elements in the list\n",
    "    set_of_job_skills = set(filtered_content_f1)\n",
    "    print(set_of_job_skills)\n",
    "    print(\"There are {skills} skills in the job requirement list\".format( skills= len(set_of_job_skills)))\n"
   ]
  },
  {
   "cell_type": "markdown",
   "metadata": {},
   "source": [
    "# Uploading the text file to which the comparison needs to be made.\n",
    "- Performing the similar operation which is done above."
   ]
  },
  {
   "cell_type": "code",
   "execution_count": 33,
   "metadata": {},
   "outputs": [
    {
     "name": "stdout",
     "output_type": "stream",
     "text": [
      "{'product management', 'cloud based visualizations', 'motivation', 'attention to detail', 'product training', 'file systems', 'product support', 'cloud hosting services', 'web technologies', 'problem solving', 'configuration management', 'analyze and recommend database improvements', 'configuration', 'leadership', 'implementation', 'maintain', 'linux', 'installation', 'software', 'methodology', 'develop and test methods to synchronize data', 'web applications', 'operating systems', 'design prototypes', 'cloud systems administration', 'information architecture', 'analyze impact of database changes to the business', 'interaction flows', 'project management', 'it solutions', 'agile project methodology', 'analytics', 'responsive design', 'amazon web services (aws)', 'migrating existing workloads into cloud systems', 'solid understanding of company’s data needs', 'wireframes', 'prototyping methods', 'design tools', 'integrated technologies', 'troubleshooting', 'front end design', 'data strategy', 'business analytics', 'search engine optimization (seo)', 'management', 'software quality assurance (qa)', 'network operations', 'technology', 'and merge databases', 'software development', 'user testing', 'data visualization tools', 'logical thinking', 'database administration', 'it support', 'self motivated', 'systems software', 'data mining', 'organization', 'emerging technologies', 'time management', 'design principles', 'develop and secure network structures', 'development', 'it soft skills', 'support', 'sql', 'database', 'identify user needs', 'data imports', 'data analytics', 'research emerging technology', 'servers', 'cloud applications', 'storage', 'web analytics', 'design specifications', 'application and server monitoring tools', 'content strategy', 'information design', 'information systems', 'data visualizations', 'cloud maintenance tasks', 'configure database software', 'continuous deployment', 'application development', 'data science', 'tech skills', 'it security', 'integrating security protocols with cloud design', 'touch input navigation', 'repairs', 'software engineering', 'it optimization', 'metrics', 'user research', 'google analytics', 'interaction design', 'optimizing user experiences', 'analytical', 'virtualization', 'networking', 'developer', 'data storage', 'optimize queries on live data', 'design', 'hardware', 'self starting', 'cloud scalability', 'process flows', 'teamwork', 'cloud services', 'visual design', 'audit database access and requests', 'team oriented', 'product design', 'training', 'code', 'microsoft office', 'critical thinking', 'apis', 'review existing solutions', 'presentation', 'web design', 'data intelligence', 'install', 'optimizing website performance', 'tablets', 'deployment of cloud services', 'continuous integration', 'data analysis', 'business intelligence', 'flexibility', 'internet', 'continually review processes for improvement', 'languages', 'user interaction diagrams', 'deployment automation tools', 'technical support', 'design and build database management system', 'tools', 'technical writing', 'operations', 'user-centered design', 'agile development', 'team building', 'computer', 'security', 'customer support', 'programming', 'ui / ux', 'applications', 'open source technology integration', 'testing', 'user experience', 'strong technical and interpersonal communication', 'web development', 'reporting', 'content management', 'data modeling', 'documentation', 'implement backup and recovery plan', 'work independently', 'desktop support', 'architecture', 'deploying applications in a cloud environment', 'product development', 'troubleshooting break-fix scenarios', 'networks', 'usability', 'cloud management tools', 'business process modeling', 'mobile applications', 'help desk', 'user interface', 'utilizing cloud automation tools', 'solid project management capabilities', 'communication', 'coding', 'big data', 'cloud platforms', 'user flows', 'messaging'}\n",
      "The number of elements in this list are: 184\n"
     ]
    }
   ],
   "source": [
    "\n",
    "    \n",
    "with open(r'C:\\Users\\kats1\\Desktop\\Blacboard\\Python\\list_of_skills.txt', 'r',encoding = 'utf-8') as f2:\n",
    "    #using readlines() instead of read(), becasue it reads line by line (each line as a string obj in the python list)\n",
    "    contents_f2 = f2.readlines()\n",
    "    #converting mall the string in the list to lowercase\n",
    "    list_of_skills = [y.lower().strip() for x in contents_f2 for y in x.split(',')]\n",
    "    #removing stopwords\n",
    "    cleaned_content_f2 = filter(lambda x: x not in stop_words, contents_f2)\n",
    "    #converting into sets\n",
    "    set_of_skills = set(list_of_skills)\n",
    "    set_of_skills.difference_update({'\\ufeffassign passwords and maintain database access','' '','to','into','/','it','of','for','and','on','a','the','in','desk'})\n",
    "print(set_of_skills)\n",
    "print(\"The number of elements in this list are: {mthd}\".format(mthd = len(set_of_skills)))\n"
   ]
  },
  {
   "cell_type": "markdown",
   "metadata": {},
   "source": [
    "## Comaparing the 2 sets.\n",
    "### Goal:\n",
    "- compare the sets and return a set which contains the matching elements."
   ]
  },
  {
   "cell_type": "code",
   "execution_count": 56,
   "metadata": {},
   "outputs": [],
   "source": [
    "# function to compare 2 sets.\n",
    "def set_compare(set1,set2):\n",
    "    comp = set(set1 & set2)\n",
    "    if(comp):        \n",
    "         print(\"THe match is: \", str(comp))\n",
    "    else:\n",
    "        print(\"No matching skills\")"
   ]
  },
  {
   "cell_type": "code",
   "execution_count": 24,
   "metadata": {},
   "outputs": [
    {
     "name": "stdout",
     "output_type": "stream",
     "text": [
      "Job skills VS set of Skills\n",
      "My skill VS Skill required by the job\n"
     ]
    },
    {
     "ename": "NameError",
     "evalue": "name 'set_compare' is not defined",
     "output_type": "error",
     "traceback": [
      "\u001b[1;31m---------------------------------------------------------------------------\u001b[0m",
      "\u001b[1;31mNameError\u001b[0m                                 Traceback (most recent call last)",
      "\u001b[1;32m<ipython-input-24-f1f78b6e3f1d>\u001b[0m in \u001b[0;36m<module>\u001b[1;34m()\u001b[0m\n\u001b[0;32m      5\u001b[0m \u001b[1;31m#Comparing my skills with the skills required for the job\u001b[0m\u001b[1;33m\u001b[0m\u001b[1;33m\u001b[0m\u001b[0m\n\u001b[0;32m      6\u001b[0m \u001b[0mprint\u001b[0m\u001b[1;33m(\u001b[0m\u001b[1;34m\"My skill VS Skill required by the job\"\u001b[0m\u001b[1;33m)\u001b[0m\u001b[1;33m\u001b[0m\u001b[0m\n\u001b[1;32m----> 7\u001b[1;33m \u001b[0mset_compare\u001b[0m\u001b[1;33m(\u001b[0m\u001b[0mset_of_myskills\u001b[0m\u001b[1;33m,\u001b[0m\u001b[0mset_of_job_skills\u001b[0m\u001b[1;33m)\u001b[0m\u001b[1;33m\u001b[0m\u001b[0m\n\u001b[0m\u001b[0;32m      8\u001b[0m \u001b[1;33m\u001b[0m\u001b[0m\n\u001b[0;32m      9\u001b[0m \u001b[1;31m#cmparing my skills with the list of skills\u001b[0m\u001b[1;33m\u001b[0m\u001b[1;33m\u001b[0m\u001b[0m\n",
      "\u001b[1;31mNameError\u001b[0m: name 'set_compare' is not defined"
     ]
    }
   ],
   "source": [
    "    #comparing skills for the job with the list of skills\n",
    "    print(\"Job skills VS set of Skills\")\n",
    "   \n",
    "    \n",
    "    #Comparing my skills with the skills required for the job \n",
    "    print(\"My skill VS Skill required by the job\")\n",
    "    set_compare(set_of_myskills,set_of_job_skills)\n",
    "    \n",
    "    #cmparing my skills with the list of skills\n",
    "    print(\"My Skills VS set of skills\")\n",
    "    compare3 = set_compare(set_of_myskills,set_of_skills)"
   ]
  },
  {
   "cell_type": "markdown",
   "metadata": {},
   "source": [
    "# The scoring system.\n",
    "- it needs to return a percentage match after displaying the matched elements."
   ]
  },
  {
   "cell_type": "code",
   "execution_count": 12,
   "metadata": {},
   "outputs": [
    {
     "data": {
      "text/plain": [
       "NoneType"
      ]
     },
     "execution_count": 12,
     "metadata": {},
     "output_type": "execute_result"
    }
   ],
   "source": [
    "type(compare1)"
   ]
  },
  {
   "cell_type": "code",
   "execution_count": null,
   "metadata": {},
   "outputs": [],
   "source": []
  }
 ],
 "metadata": {
  "kernelspec": {
   "display_name": "Python 3",
   "language": "python",
   "name": "python3"
  },
  "language_info": {
   "codemirror_mode": {
    "name": "ipython",
    "version": 3
   },
   "file_extension": ".py",
   "mimetype": "text/x-python",
   "name": "python",
   "nbconvert_exporter": "python",
   "pygments_lexer": "ipython3",
   "version": "3.6.4"
  }
 },
 "nbformat": 4,
 "nbformat_minor": 2
}
