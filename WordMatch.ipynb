{
 "cells": [
  {
   "cell_type": "markdown",
   "metadata": {},
   "source": [
    "## Purpose:\n",
    "- To scan the text file (my Resume in this case)<br>\n",
    "- To scan the text file (Job Description and resposibilities) that contains matching key words<br>\n",
    "- Return the count of matched keywords and return the missing keywords<br>\n",
    "- Use a list of technical keywords to extract the key words from the job text file."
   ]
  },
  {
   "cell_type": "code",
   "execution_count": 157,
   "metadata": {},
   "outputs": [],
   "source": [
    "#use nltk to fetch stopwords.\n",
    "from nltk.corpus import stopwords\n",
    "from nltk.tokenize import word_tokenize\n",
    "import string\n",
    "import nltk"
   ]
  },
  {
   "cell_type": "markdown",
   "metadata": {},
   "source": [
    "# Cleaning skills text file.\n",
    "## Things to be done:\n",
    "- Open and read the text file\n",
    "- Tokenize the content (Converting each word & characters into individual tokens)<br>\n",
    "- Removing the punctuations (, . - \"white spaces\")<br>\n",
    "- Removing Stopwords (a, the , and, an , is........): Here you can find the entire list of stopwords https://gist.github.com/sebleier/554280<br>\n",
    "- Removing the duplicate elements from the list for more accuracy."
   ]
  },
  {
   "cell_type": "code",
   "execution_count": 146,
   "metadata": {},
   "outputs": [
    {
     "name": "stdout",
     "output_type": "stream",
     "text": [
      "{'', 'identify user needs', 'mysql', 'matplotlib', 'data analysis', 'data', 'data models', 'data modelling', 'uml diagrams', 'prioratization', 'relational database', 'prototyping', 'surveys', 'database', 'html5', 'pandas', 'ipython notebook', 'css3', 'mysq', 'analyze', 'business intelligence', 'sequence diagram', 'scenarios', 'plot', 'identifying', 'tableau', 'web development', 'anaconda', 'business analysis', 'develop', 'project development', 'spyder', 'data visualization', 'teamwork', 'leadreship', 'state diagram', 'numpy', 'oracle sql', 'use-cases', 'php', 'team', 'critical thinking', 'design', 'data science', 'python', 'entity-relationship', 'jupyterlab', 'articulate', 'logical data models', 'clean', 'user requirement', 'requirement elicitation.'}\n",
      "<class 'set'>\n"
     ]
    }
   ],
   "source": [
    "#using content mmanager to open and read file\n",
    "#converted the text file into csv file at the source using Notepad++\n",
    "#remmoved all the unecessary code for optimization.\n",
    "with open(r'C:\\Users\\kats1\\Desktop\\Blacboard\\Python\\skills.csv', 'r', encoding=\"utf-8-sig\") as f:\n",
    "    myskills = f.readlines()\n",
    "    #converting mall the string in the list to lowercase\n",
    "    list_of_myskills = [y.strip().lower() for x in myskills for y in x.split(',')]\n",
    "    set_of_myskills = set(list_of_myskills)\n",
    "    #print(type(nodup_filtered_content))\n",
    "print(set_of_myskills)\n",
    "print(type(set_of_myskills))"
   ]
  },
  {
   "cell_type": "markdown",
   "metadata": {},
   "source": [
    "# Uploading the text file to which the comparison needs to be made.\n",
    "- Performing the similar operation which is done above."
   ]
  },
  {
   "cell_type": "code",
   "execution_count": null,
   "metadata": {},
   "outputs": [],
   "source": [
    "#open and read the text file\n",
    "with open(r'C:\\Users\\kats1\\Desktop\\Blacboard\\Python\\jobdesc.txt', 'r', encoding=\"utf-8-sig\") as f1:\n",
    "    stop_words = set(stopwords.words('english'))\n",
    "    contents_f1 = f1.read()\n",
    "    tokenized_contents_f1 = word_tokenize(contents_f1)\n",
    "    #removing the punctuations\n",
    "    tokenized_contents_f1 = filter(lambda x: x not in string.punctuation, tokenized_contents_f1)\n",
    "    #removing stopwords \n",
    "    cleaned_content_f1 = filter(lambda x: x not in stop_words, tokenized_contents_f1)\n",
    "    filtered_content_f1 = list(cleaned_content_f1)\n",
    "    #getting rid of the duplicate elements in the list\n",
    "    nodup_filtered_content_f1 = list(set(filtered_content_f1))\n",
    "    print(type(nodup_filtered_content_f1))\n",
    "print(nodup_filtered_content_f1)"
   ]
  },
  {
   "cell_type": "code",
   "execution_count": 141,
   "metadata": {},
   "outputs": [
    {
     "name": "stdout",
     "output_type": "stream",
     "text": [
      "{'', 'identify user needs', 'cloud management tools', 'security', '\"install', 'front end design', 'tools', 'it soft skills', 'linux', 'web applications', 'coding', 'information design', 'data modeling', 'continuous deployment', 'technical writing', 'data storage', 'data mining', 'user flows', 'assign passwords and maintain database access', 'prototyping methods', 'continuous integration', 'interaction flows', 'emerging technologies', 'troubleshooting break-fix scenarios', 'application and server monitoring tools', 'continually review processes for improvement', 'team building', 'networks', 'storage', 'design prototypes', 'support', 'audit database access and requests', 'data analytics', 'organization', 'information architecture', 'tablets', 'user experience', 'self motivated', 'solid understanding of company’s data needs', 'analyze impact of database changes to the business', 'search engine optimization (seo)', 'product development', 'utilizing cloud automation tools', 'network operations', 'implementation', 'web design', 'systems software', 'cloud services', 'virtualization', 'solid project management capabilities', 'cloud platforms', 'project management', 'data imports', 'time management', 'data analysis', 'develop and test methods to synchronize data', 'information systems', 'software development', 'amazon web services (aws)', 'user research', 'computer', 'it security', 'database', 'data visualization tools', 'design tools', 'management', 'data visualizations', 'develop and secure network structures', 'it support', 'programming', 'servers', 'open source technology integration', 'mobile applications', 'repairs', 'business intelligence', 'help desk', 'internet', 'languages', 'strong technical and interpersonal communication', 'motivation', 'self starting', 'product design', 'development', 'cloud maintenance tasks', 'troubleshooting', 'training', 'analytics', 'technical support', 'cloud based visualizations', 'analytical', 'attention to detail', 'technology', 'research emerging technology', 'agile project methodology', 'installation', 'critical thinking', 'tech skills', 'content strategy', 'user interaction diagrams', 'file systems', 'data intelligence', 'microsoft office', 'cloud hosting services', 'process flows', 'work independently', 'wireframes', 'cloud applications', 'architecture', 'user testing', 'visual design', 'database administration', 'application development', 'user interface', 'it optimization', 'interaction design', 'metrics', 'deployment automation tools', 'ui / ux', 'data strategy', 'deployment of cloud services', 'customer support', 'software engineering', 'implement backup and recovery plan', 'agile development', 'usability', 'product support', 'reporting', 'big data', 'applications', 'business analytics', 'analyze and recommend database improvements', 'web analytics', 'flexibility', 'code', 'google analytics', 'problem solving', 'migrating existing workloads into cloud systems', 'software quality assurance (qa)', 'methodology', 'networking', 'operations', 'design', 'data science', 'documentation', 'optimizing website performance', 'desktop support', 'presentation', 'business process modeling', 'configure database software', 'messaging', 'cloud systems administration', 'web technologies', 'product management', 'developer', 'operating systems', 'logical thinking', 'design and build database management system', 'product training', 'integrating security protocols with cloud design', 'responsive design', 'content management', 'team oriented', 'touch input navigation', 'apis', 'optimize queries on live data', 'optimizing user experiences', 'web development', 'software', 'communication', 'design specifications', 'leadership', 'teamwork', 'hardware', 'design principles', 'maintain', 'integrated technologies', 'configuration', 'user-centered design', 'cloud scalability', 'and merge databases \"', 'configuration management', 'review existing solutions', 'testing', 'deploying applications in a cloud environment', 'it solutions'}\n"
     ]
    }
   ],
   "source": [
    "#open and read by line from the text file\n",
    "with open(r'C:\\Users\\kats1\\Desktop\\Blacboard\\Python\\list_of_skills.csv', 'r') as f2:\n",
    "    #using readlines() instead of read(), becasue it reads line by line (each line as a string obj in the python list)\n",
    "    contents_f2 = f2.readlines()\n",
    "    #converting mall the string in the list to lowercase\n",
    "    list_of_skills = [y.strip().lower() for x in contents_f2 for y in x.split(',')]\n",
    "    #converting into sets\n",
    "    set_of_skills = set(list_of_skills)\n",
    "print(set_of_skills)"
   ]
  },
  {
   "cell_type": "markdown",
   "metadata": {},
   "source": [
    "## Comaparing the 2 sets.\n",
    "### Goal:\n",
    "- compare the sets and return a set which contains the matching elements."
   ]
  },
  {
   "cell_type": "code",
   "execution_count": 147,
   "metadata": {},
   "outputs": [],
   "source": [
    "# function to compare 2 sets.\n",
    "def set_compare(set1,set2):\n",
    "    if(set1 & set2):\n",
    "        return print('The matching skills are: ',(set1 & set2))\n",
    "    else:\n",
    "        print(\"No matching skills\")"
   ]
  },
  {
   "cell_type": "code",
   "execution_count": 148,
   "metadata": {},
   "outputs": [
    {
     "name": "stdout",
     "output_type": "stream",
     "text": [
      "The matching skills are:  {'', 'identify user needs', 'critical thinking', 'data analysis', 'business intelligence', 'design', 'data science', 'teamwork', 'web development', 'database'}\n"
     ]
    }
   ],
   "source": [
    "    set_compare(set_of_myskills,set_of_skills)"
   ]
  }
 ],
 "metadata": {
  "kernelspec": {
   "display_name": "Python 3",
   "language": "python",
   "name": "python3"
  },
  "language_info": {
   "codemirror_mode": {
    "name": "ipython",
    "version": 3
   },
   "file_extension": ".py",
   "mimetype": "text/x-python",
   "name": "python",
   "nbconvert_exporter": "python",
   "pygments_lexer": "ipython3",
   "version": "3.6.4"
  }
 },
 "nbformat": 4,
 "nbformat_minor": 2
}
