{
 "cells": [
  {
   "cell_type": "markdown",
   "metadata": {},
   "source": [
    "## Purpose:\n",
    "- To scan the text file (my Resume in this case)<br>\n",
    "- To scan the text file (Job Description and resposibilities) that contains matching key words<br>\n",
    "- Return the count of matched keywords and return the missing keywords<br>\n",
    "- Use a list of technical keywords to extract the key words from the job text file."
   ]
  },
  {
   "cell_type": "code",
   "execution_count": 86,
   "metadata": {},
   "outputs": [],
   "source": [
    "#use nltk to fetch stopwords.\n",
    "from nltk.corpus import stopwords\n",
    "from nltk.tokenize import word_tokenize\n",
    "import string\n",
    "import nltk"
   ]
  },
  {
   "cell_type": "markdown",
   "metadata": {},
   "source": [
    "# Cleaning skills text file.\n",
    "## Things to be done:\n",
    "- Open and read the text file\n",
    "- Tokenize the content (Converting each word & characters into individual tokens)<br>\n",
    "- Removing the punctuations (, . - \"white spaces\")<br>\n",
    "- Removing Stopwords (a, the , and, an , is........): Here you can find the entire list of stopwords https://gist.github.com/sebleier/554280<br>\n",
    "- Removing the duplicate elements from the list for more accuracy."
   ]
  },
  {
   "cell_type": "code",
   "execution_count": 94,
   "metadata": {},
   "outputs": [
    {
     "name": "stdout",
     "output_type": "stream",
     "text": [
      "{'critical thinking,identify user needs,business intelligence,business analysis,teamwork,database,data visualization,data analysis,relational database,mysql,oracle sql,design,entity-relationship,develop ,use-cases ,scenarios,project development ,user requirement,design,sequence diagram,state diagram,identifying,uml diagrams,html5,css3,php,clean,analyze,plot,data,python,pandas,numpy,matplotlib,ipython notebook,spyder,anaconda,jupyterlab,data analysis,data visualization,tableau,database,surveys,prototyping,logical data models,data models,requirement elicitation.,leadreship,mysq,team,prioratization,analyze,articulate,'}\n"
     ]
    }
   ],
   "source": [
    "#using content mmanager to open and read file\n",
    "#converted the text file into csv file at the source using Notepad++\n",
    "#remmoved all the unecessary code for optimization.\n",
    "with open(r'C:\\Users\\kats1\\Desktop\\Blacboard\\Python\\skills.csv', 'r', encoding=\"utf-8-sig\") as f:\n",
    "    \n",
    "    myskills = f.readlines()\n",
    "    #converting mall the string in the list to lowercase\n",
    "    list_of_myskills = map(lambda x: x.lower(), myskills)\n",
    "    set_of_myskills = set(list_of_myskills)\n",
    "    #print(type(nodup_filtered_content))\n",
    "print(set_of_myskills)"
   ]
  },
  {
   "cell_type": "markdown",
   "metadata": {},
   "source": [
    "# Uploading the text file to which the comparison needs to be made.\n",
    "- Performing the similar operation which is done above."
   ]
  },
  {
   "cell_type": "code",
   "execution_count": null,
   "metadata": {},
   "outputs": [],
   "source": [
    "#open and read the text file\n",
    "with open(r'C:\\Users\\kats1\\Desktop\\Blacboard\\Python\\jobdesc.txt', 'r', encoding=\"utf-8-sig\") as f1:\n",
    "    stop_words = set(stopwords.words('english'))\n",
    "    contents_f1 = f1.read()\n",
    "    tokenized_contents_f1 = word_tokenize(contents_f1)\n",
    "    #removing the punctuations\n",
    "    tokenized_contents_f1 = filter(lambda x: x not in string.punctuation, tokenized_contents_f1)\n",
    "    #removing stopwords \n",
    "    cleaned_content_f1 = filter(lambda x: x not in stop_words, tokenized_contents_f1)\n",
    "    filtered_content_f1 = list(cleaned_content_f1)\n",
    "    #getting rid of the duplicate elements in the list\n",
    "    nodup_filtered_content_f1 = list(set(filtered_content_f1))\n",
    "    print(type(nodup_filtered_content_f1))\n",
    "print(nodup_filtered_content_f1)"
   ]
  },
  {
   "cell_type": "code",
   "execution_count": 95,
   "metadata": {},
   "outputs": [
    {
     "name": "stdout",
     "output_type": "stream",
     "text": [
      "{'assign passwords and maintain database access,agile development,agile project methodology,amazon web services (aws),analytics,analytical,analyze and recommend database improvements,analyze impact of database changes to the business,audit database access and requests,apis,application and server monitoring tools,applications,application development,attention to detail,architecture,big data,business analytics,business intelligence,business process modeling,cloud applications,cloud based visualizations,cloud hosting services,cloud maintenance tasks,cloud management tools,cloud platforms,cloud scalability,cloud services,cloud systems administration,code,coding,computer,communication,configure database software,configuration,configuration management,content strategy,content management,continually review processes for improvement ,continuous deployment,continuous integration,critical thinking,customer support,database,data analysis,data analytics,data imports,data imports,data intelligence,data mining,data modeling,data science,data strategy,data storage,data visualization tools,data visualizations,database administration,deploying applications in a cloud environment,deployment automation tools,deployment of cloud services,design,desktop support,design,design and build database management system,design principles,design prototypes,design specifications,design tools,develop and secure network structures,develop and test methods to synchronize data ,developer,development,documentation,emerging technologies,file systems,flexibility,front end design,google analytics,hardware,help desk,identify user needs ,implement backup and recovery plan ,implementation,information architecture,information design,information systems,interaction design,interaction flows,\"install, maintain, and merge databases \",installation,integrated technologies,integrating security protocols with cloud design,internet,it optimization,it security,it soft skills,it solutions,it support,languages,logical thinking,leadership,linux,management,messaging,methodology,metrics,microsoft office,migrating existing workloads into cloud systems,mobile applications,motivation,networks,network operations,networking,open source technology integration,operating systems,operations,optimize queries on live data,optimizing user experiences,optimizing website performance,organization,presentation,programming,problem solving,process flows,product design,product development,prototyping methods,product development,product management,product support,product training,project management,repairs,reporting,research emerging technology,responsive design,review existing solutions,search engine optimization (seo),security,self motivated,self starting,servers,software,software development,software engineering,software quality assurance (qa),solid project management capabilities ,solid understanding of company’s data needs ,storage,strong technical and interpersonal communication ,support,systems software,tablets,team building,team oriented,teamwork,technology,tech skills,technical support,technical writing,testing,time management,tools,touch input navigation,training,troubleshooting,troubleshooting break-fix scenarios,user research,user testing,usability,user-centered design,user experience,user flows,user interface,user interaction diagrams,user research,user testing,ui / ux,utilizing cloud automation tools,virtualization,visual design,web analytics,web applications,web development,web design,web technologies,wireframes,work independently,'}\n"
     ]
    }
   ],
   "source": [
    "#open and read by line from the text file\n",
    "with open(r'C:\\Users\\kats1\\Desktop\\Blacboard\\Python\\list_of_skills.csv', 'r') as f2:\n",
    "    #using readlines() instead of read(), becasue it reads line by line (each line as a string obj in the python list)\n",
    "    contents_f2 = f2.readlines()\n",
    "    #converting mall the string in the list to lowercase\n",
    "    list_of_skills = map(lambda x: x.lower(), contents_f2)\n",
    "    #converting into sets\n",
    "    set_of_skills = set(list_of_skills)\n",
    "print(set_of_skills)"
   ]
  },
  {
   "cell_type": "markdown",
   "metadata": {},
   "source": [
    "## Comaparing the 2 sets.\n",
    "### Goal:\n",
    "- compare the sets and return a set which contains the matching elements."
   ]
  },
  {
   "cell_type": "code",
   "execution_count": 102,
   "metadata": {},
   "outputs": [],
   "source": [
    "# function to compare 2 sets.\n",
    "def set_compare(set1,set2):\n",
    "    if(set1 & set2):\n",
    "        return print('The matching skills are: '(set1 & set2))\n",
    "    else:\n",
    "        print(\"No matching skills\")"
   ]
  },
  {
   "cell_type": "code",
   "execution_count": 105,
   "metadata": {},
   "outputs": [
    {
     "name": "stdout",
     "output_type": "stream",
     "text": [
      "No matching skills\n"
     ]
    }
   ],
   "source": [
    "    set_compare(set_of_skills,set_of_myskills)"
   ]
  },
  {
   "cell_type": "code",
   "execution_count": 132,
   "metadata": {},
   "outputs": [
    {
     "name": "stdout",
     "output_type": "stream",
     "text": [
      "This is my skills: {'critical', 'Scenarios', 'Database', 'Tableau', 'Oracle', 'data', 'requirement', 'Pandas', 'sequence', 'prioratization', 'Develop', 'Matplotlib', 'prototyping', 'needs', 'Logical', 'surveys', 'database', 'Models', 'Use-Cases', 'analyze', 'Notebook', 'Anaconda', 'thinking', 'UML', 'CSS3', 'Relational', 'diagrams', 'plot', 'Analyze', 'identifying', 'project', 'state', 'Design', 'Teamwork', 'development', 'Visualization', 'Spyder', 'identify', 'Business', 'Intelligence', 'Analysis', 'diagram', 'SQL', 'web', 'php', 'Data', 'NumPy', 'elicitation.', 'Leadreship', 'MySQL', 'user', 'articulate', 'Entity-Relationship', 'MySQ', 'HTML5', 'Clean', 'iPython', 'Jupyterlab', 'Team', 'Python'}\n",
      "\n",
      "This is the list of skill:  {'', 'Linux', 'Problem Solving', 'Deployment of Cloud Services', 'Design and Build Database Management System', 'Code', 'Migrating Existing Workloads into Cloud Systems', 'User-Centered Design', 'Agile Development', 'Data Intelligence', 'User Interaction Diagrams', 'Cloud Applications', 'Cloud Systems Administration', 'Operations', 'Programming', 'Continuous Integration', 'Software Engineering', 'Analyze and Recommend Database Improvements', 'Technical Support', 'Software Development', 'Content Management', 'Architecture', 'Configuration Management', 'Assign Passwords and Maintain Database Access', 'Information Design', 'Networks', 'Design Specifications', 'Data Science', 'Develop and Secure Network Structures', 'Data Modeling', 'Web Analytics', 'Technical Writing', 'Research Emerging Technology', 'Coding', 'Search Engine Optimization (SEO)', 'Management', 'Security', 'Customer Support', 'Configure Database Software', 'Optimizing Website Performance', 'Hardware', 'Usability', 'Self Motivated', 'Help Desk', 'Cloud Based Visualizations', 'Cloud Scalability', 'Strong Technical and Interpersonal Communication ', 'Continuous Deployment', 'Storage', 'Touch Input Navigation', 'Cloud Management Tools', 'Analytics', 'Microsoft Office', 'Integrating Security Protocols with Cloud Design', 'Installation', 'Software', 'Computer', 'Front End Design', 'Analytical', 'Design Tools', 'Data Visualization Tools', 'Continually Review Processes for Improvement ', 'Data Strategy', 'Design', 'Solid Project Management Capabilities ', 'Communication', 'Data Mining', 'Internet', 'Presentation', 'Product Design', 'Technology', 'Training', 'Virtualization', 'Data Visualizations', 'Cloud Services', 'Product Training', 'Product Management', 'Data Imports', 'Optimizing User Experiences', 'Process Flows', 'Install, Maintain, and Merge Databases ', 'Reporting', 'Support', 'Developer', 'Work Independently', 'Solid Understanding of Company’s Data Needs ', 'Content Strategy', 'Implementation', 'Audit Database Access and Requests', 'Responsive Design', 'Methodology', 'Organization', 'Implement Backup and Recovery Plan ', 'Software Quality Assurance (QA)', 'Web Development', 'Web Technologies', 'Mobile Applications', 'Deploying Applications in a Cloud Environment', 'Business Intelligence', 'Big Data', 'Review Existing Solutions', 'IT Optimization', 'Google Analytics', 'Testing', 'Information Architecture', 'Tablets', 'User Testing', 'Business Process Modeling', 'Cloud Hosting Services', 'Attention to Detail', 'User Interface', 'Utilizing Cloud Automation Tools', 'Visual Design', 'Data Storage', 'Teamwork', 'Time Management', 'Configuration', 'Data Analytics', 'Troubleshooting Break-Fix Scenarios', 'Project Management', 'User Flows', 'Wireframes', 'Applications', 'Documentation', 'Emerging Technologies', 'IT Security', 'Tech Skills', 'Information Systems', 'Metrics', 'User Experience', 'Web Applications', 'Tools', 'Application Development', 'Database Administration', 'Languages', 'Analyze Impact of Database Changes to the Business', 'UI / UX', 'Deployment Automation Tools', 'Integrated Technologies', 'Develop and Test Methods to Synchronize Data ', 'Leadership', 'Database', 'Operating Systems', 'Amazon Web Services (AWS)', 'Product Development', 'Cloud Platforms', 'File Systems', 'Optimize Queries on Live Data', 'IT Solutions', 'Desktop Support', 'Data Analysis', 'Motivation', 'Team Building', 'User Research', 'Development', 'IT Support', 'Servers', 'Messaging', 'Troubleshooting', 'APIs', 'Interaction Flows', 'Open Source Technology Integration', 'Team Oriented', 'Business Analytics', 'Logical Thinking', 'Identify User Needs ', 'Networking', 'Self Starting', 'Cloud Maintenance Tasks', 'Critical Thinking', 'Systems Software', 'Flexibility', 'Web Design', 'Product Support', 'Repairs', 'Design Prototypes', 'Design Principles', 'Agile Project Methodology', 'Application and Server Monitoring Tools', 'Network Operations', 'Prototyping Methods', 'Interaction Design', 'IT Soft Skills'}\n",
      "set()\n"
     ]
    }
   ],
   "source": [
    "import csv\n",
    "\n",
    "alist, blist = [], []\n",
    "\n",
    "with open(r'C:\\Users\\kats1\\Desktop\\Blacboard\\Python\\skills.csv', 'r', encoding=\"utf-8-sig\") as fileA:\n",
    "    reader = csv.reader(fileA, delimiter=',')\n",
    "    \n",
    "    for row in reader:\n",
    "        for row_str in row:\n",
    "            alist += row_str.split()\n",
    "\n",
    "with open(r'C:\\Users\\kats1\\Desktop\\Blacboard\\Python\\list_of_skills.csv', 'r') as fileB:\n",
    "    reader = csv.reader(fileB, delimiter=',')\n",
    "    for row in reader:\n",
    "        blist += row\n",
    "\n",
    "first_set = set(alist)\n",
    "second_set = set(blist)\n",
    "\n",
    "print(\"This is my skills:\", first_set)\n",
    "print(\"\")\n",
    "print(\"This is the list of skill: \", second_set)\n",
    "\n",
    "print (set_of_myskills.intersection(second_set))"
   ]
  },
  {
   "cell_type": "code",
   "execution_count": null,
   "metadata": {},
   "outputs": [],
   "source": []
  },
  {
   "cell_type": "code",
   "execution_count": null,
   "metadata": {},
   "outputs": [],
   "source": []
  }
 ],
 "metadata": {
  "kernelspec": {
   "display_name": "Python 3",
   "language": "python",
   "name": "python3"
  },
  "language_info": {
   "codemirror_mode": {
    "name": "ipython",
    "version": 3
   },
   "file_extension": ".py",
   "mimetype": "text/x-python",
   "name": "python",
   "nbconvert_exporter": "python",
   "pygments_lexer": "ipython3",
   "version": "3.6.4"
  }
 },
 "nbformat": 4,
 "nbformat_minor": 2
}
