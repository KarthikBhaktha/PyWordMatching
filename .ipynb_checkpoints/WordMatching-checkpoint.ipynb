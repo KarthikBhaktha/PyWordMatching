{
 "cells": [
  {
   "cell_type": "markdown",
   "metadata": {},
   "source": [
    "# Keyword Matching in python\n",
    "When you apply for a job online through an employer's website, the resume which you upload usually goes through an ATS(Applicant Tracking System), it is the first step a company employs to filter out resumes, given the amount of applicants applying for a given position is enormous, makes it difficult for the hiring manager of that comapny to browse and review all the appllications submitted.<br>\n",
    "Hence the ATSs are usually configured in a way that it will browse through your resume looking for certain predefined keywords and tries to find<br>those in the resume. It will then forward that resume to the hiring manager if the keywords found in that resume is above the set limit.<br> For example: If the job description has about 20 technical keywords, the limit set on the ATS is 10, if the applicants resume has more than 10 matching keyword then it wil be forwarded to the hiring manager and the other reumes will stay in the database and will be scanned again when a new job has opened up and the hiring manager is looking for candidates, the application goes through the same proccess again.\n",
    "<br>\n",
    "## The purpose of the project is:\n",
    "### - SCAN\n",
    "### - MATCH\n",
    "### - FILTER\n",
    "### - RESULT\n",
    "#### Goal is to scan our resumes against the job description and pull out technical keywords by filtering them out using a set of keywords<br>and returning the list of keywords which can be used to alter the resume in order to tailor the resume based on the list of keywords found"
   ]
  },
  {
   "cell_type": "markdown",
   "metadata": {},
   "source": [
    "### Importing libraries"
   ]
  },
  {
   "cell_type": "code",
   "execution_count": 2,
   "metadata": {},
   "outputs": [],
   "source": [
    "#Importing the libraries\n",
    "from nltk.corpus import stopwords\n",
    "from nltk.tokenize import word_tokenize\n",
    "import string\n",
    "import nltk\n",
    "import pandas as pd\n",
    "import matplotlib.pyplot as plt\n",
    "import matplotlib.pyplot as plt; plt.rcdefaults()\n",
    "import numpy as np\n",
    "\n",
    "#Magic command required to display graphs in notebook\n",
    "%matplotlib inline"
   ]
  },
  {
   "cell_type": "markdown",
   "metadata": {},
   "source": [
    "### Reading and storing the text files as a set"
   ]
  },
  {
   "cell_type": "code",
   "execution_count": 16,
   "metadata": {},
   "outputs": [],
   "source": [
    "# Open Read the list of skills text document \n",
    "with open(r'C:\\Users\\kats1\\Desktop\\Blacboard\\Python\\list_of_skills.txt', 'r',encoding = 'utf-8') as f2:\n",
    "    #using readlines() instead of read(), becasue it reads line by line (each line as a string obj in the python list)\n",
    "    contents_f2 = f2.readlines()\n",
    "    #converting mall the string in the list to lowercase\n",
    "    list_of_skills = [y.strip().lower() for x in contents_f2 for y in x.split(' ')]\n",
    "    #removing stopwords\n",
    "    cleaned_content_f2 = filter(lambda x: x not in stop_words, contents_f2)\n",
    "    #converting into sets\n",
    "    set_of_skills = set(list_of_skills)\n",
    "    #cleaning up the set\n",
    "    set_of_skills.difference_update({'\\ufeffassign','' '','to','into','/','it','of','for','and','on','a','the','in','desk','regularly'})\n",
    "\n",
    "\n",
    "with open(r'C:\\Users\\kats1\\Desktop\\Blacboard\\Python\\skills.txt', 'r', encoding=\"utf-8-sig\") as f:\n",
    "    myskills = f.readlines()\n",
    "    #converting mall the string in the list to lowercase\n",
    "    #all the strings are converted to lowercase and split at ','.\n",
    "    list_of_myskills = [y.strip().lower() for x in myskills for y in x.split(' ')]\n",
    "    set_of_myskills = set(list_of_myskills)\n",
    "    set_of_myskills.difference_update({'\\ufeffassign','' '','to','into','/','it','of','for','and','on','a','the','in','desk'})\n",
    "    \n",
    "    \n",
    "    \n",
    "##import the skills.csv(skills in my resume) file into pandas df\n",
    "#myskills = pd.read_csv('C:\\\\Users\\\\kats1\\\\Desktop\\\\Blacboard\\\\Python\\\\skills.csv',encoding='utf-8',header=None)\n",
    "#myskills.dropna(axis=1,inplace=True)\n",
    "#set_of_my_skills = set(myskills.iloc[0,])\n",
    "#comparison = set_of_my_skills & set_of_skills\n",
    "\n",
    "#open the job description text file  and read the text file\n",
    "with open(r'C:\\Users\\kats1\\Desktop\\Blacboard\\Python\\jobdesc.txt', 'r', encoding=\"utf-8-sig\") as f1:\n",
    "    stop_words = set(stopwords.words('english'))\n",
    "    contents_f1 = f1.read()\n",
    "    tokenized_contents_f1 = word_tokenize(contents_f1)\n",
    "    #removing the punctuations\n",
    "    tokenized_contents_f1 = filter(lambda x: x not in string.punctuation, tokenized_contents_f1)\n",
    "    #removing stopwords \n",
    "    cleaned_content_f1 = filter(lambda x: x not in stop_words, tokenized_contents_f1)\n",
    "    #all the strings are converted to lowercase and split at ','\n",
    "    filtered_content_f1 = [y.strip().lower() for x in cleaned_content_f1 for y in x.split(\" \")]\n",
    "    #getting rid of the duplicate elements in the list\n",
    "    set_of_job_skills = set(filtered_content_f1)\n",
    "comparison = set_of_myskills & set_of_skills"
   ]
  },
  {
   "cell_type": "code",
   "execution_count": 17,
   "metadata": {},
   "outputs": [
    {
     "name": "stdout",
     "output_type": "stream",
     "text": [
      "***This is a set of keywords widely used in the resume of a computer science major***\n",
      "{'tech', 'linux', 'attention', 'building', 'ux', 'research', 'review', 'science', 'communication', 'networks', 'modeling', 'existing', 'teamwork', 'support', 'migrating', 'imports', 'queries', 'prototyping', 'tools', 'storage', 'input', 'backup', 'quality', 'apis', 'programming', 'integrating', 'navigation', 'agile', 'website', 'coding', 'system', 'development', 'logical', 'maintenance', 'strategy', 'motivation', 'design', 'configuration', 'sql', 'administration', 'principles', 'hardware', 'optimization', 'synchronize', 'services', 'applications', 'desktop', 'visualization', 'with', 'responsive', 'training', 'file', 'front', 'microsoft', 'team', 'data', 'databases', 'tasks', 'process', 'emerging', 'source', 'engine', 'product', 'analyze', '(seo)', 'protocols', 'understanding', 'audit', 'experience', 'operations', 'company’s', 'requests', 'problem', 'test', 'technology', 'starting', 'needs', 'flexibility', 'develop', 'soft', 'configure', 'monitoring', 'presentation', 'maintain,', '(qa)', 'methodology', 'usability', 'recommend', 'optimize', 'security', 'experiences', 'solving', 'visual', 'software', 'deployment', 'automation', 'documentation', 'changes', 'workloads', 'time', 'oriented', 'virtualization', 'server', 'deploying', 'access', 'application', 'leadership', 'user-centered', 'utilizing', 'technologies', 'database', 'big', 'flows', 'merge', 'analytical', 'environment', 'reporting', 'diagrams', 'interface', 'passwords', 'repairs', 'skills', 'mining', 'analytics', 'analysis', 'management', 'integration', 'end', 'mobile', 'messaging', 'build', 'assurance', 'project', 'plan', 'strong', 'tablets', 'operating', 'detail', 'office', 'visualizations', 'hosting', 'intelligence', 'interaction', 'technical', 'information', 'impact', 'internet', 'business', 'code', 'computer', 'thinking', 'open', 'processes', 'live', 'identify', 'ui', 'user', 'improvements', 'break-fix', '(aws)', 'amazon', 'network', 'capabilities', 'metrics', 'engineering', 'implement', 'customer', 'networking', 'work', 'optimizing', 'based', 'architecture', 'secure', 'motivated', 'structures', 'install,', 'performance', 'solid', 'prototypes', 'organization', 'interpersonal', 'writing', 'solutions', 'wireframes', 'languages', 'touch', 'recovery', 'content', 'integrated', 'testing', 'independently', 'search', 'continually', 'specifications', 'scenarios', 'help', 'installation', 'maintain', 'implementation', 'servers', 'troubleshooting', 'platforms', 'critical', 'systems', 'continuous', 'scalability', 'web', 'cloud', 'methods', 'google', 'self', 'improvement', 'developer'}\n",
      "-------------------------------------------------------------------------------------\n",
      "The number of elements in this list are: 213\n",
      "-------------------------------------------------------------------------------------\n",
      "***This is a set of my skills from my resume***\n",
      "{'python', 'ipython', 'uml', 'entity-relationship', 'oracle', 'diagrams', 'state', 'articulate', 'analyze', 'matplotlib', 'spyder', 'html5', 'css3', 'analysis', 'relational', 'prioratization', 'requirement', 'diagram', 'project', 'prototyping', 'plot', 'use-cases', 'develop', 'clean', 'models', 'scenarios', 'anaconda', 'notebook', 'pandas', 'tableau', 'development', 'php', 'logical', 'design', 'mysq', 'sql', 'mysql', 'identifying', 'elicitation.', 'numpy', 'user', 'visualization', 'leadreship', 'database', 'team', 'surveys', 'sequence', 'data', 'jupyterlab'}\n",
      "-------------------------------------------------------------------------------------\n",
      "The number of skills in the reume is :49\n",
      "-------------------------------------------------------------------------------------\n",
      "***This is a comparion of my skills VS the list of skills keywords***\n",
      "{'team', 'development', 'project', 'diagrams', 'prototyping', 'logical', 'analyze', 'design', 'user', 'develop', 'visualization', 'database', 'analysis', 'scenarios', 'sql', 'data'}\n",
      "-------------------------------------------------------------------------------------\n",
      "The length of the set is: 16\n",
      "-------------------------------------------------------------------------------------\n"
     ]
    }
   ],
   "source": [
    "#checking the code.\n",
    "print('***This is a set of keywords widely used in the resume of a computer science major***')\n",
    "print(set_of_skills)\n",
    "print(\"-------------------------------------------------------------------------------------\")\n",
    "print(\"The number of elements in this list are: {mthd}\".format(mthd = len(set_of_skills)))\n",
    "print(\"-------------------------------------------------------------------------------------\")\n",
    "print(\"***This is a set of my skills from my resume***\")\n",
    "print(set_of_myskills)\n",
    "print(\"-------------------------------------------------------------------------------------\")\n",
    "print('The number of skills in the reume is :{length}'.format(length = len(set_of_myskills)))\n",
    "print(\"-------------------------------------------------------------------------------------\")\n",
    "print(\"***This is a comparion of my skills VS the list of skills keywords***\")\n",
    "print(comparison)\n",
    "print(\"-------------------------------------------------------------------------------------\")\n",
    "print(\"The length of the set is: {length}\".format(length= len(comparison)))\n",
    "print(\"-------------------------------------------------------------------------------------\")"
   ]
  },
  {
   "cell_type": "code",
   "execution_count": 18,
   "metadata": {},
   "outputs": [
    {
     "name": "stdout",
     "output_type": "stream",
     "text": [
      "{'python', 'regularly', 'trends', 'believe', 'science', 'communication', 'variance', 'root', 'manner', 'results', 'development', 'recommendations', 'teams', 'curious', 'sql', 'growth', 'r', 'new', 'analyses', 'plus', 'scalable', 'mentioned', 'data', 'product', 'experience', 'unlock', 'operations', 'facilitate', 'technology', 'initiatives', 'monitor', 'dashboards', 'develop', 'cross-functional', 'ways', 'self-driven', 'bachelors', 'cause', 'fuel', 'marketing', 'group', 'communicate', 'mathematics', 'benchmarks', 'opportunities', 'self-guided', 'finance', 'users', 'future', 'efficient', 'analytical', 'decisions', 'passionate', 'drive', 'collaborate', 'skills', 'inherently', 'management', 'join', 'build', 'consulting', 'senior', 'stem', 'ability', 'strong', 'saas', 'committed', 'provide', 'intelligence', 'strategic', 'using', 'power', 'behind', 'high', 'business', 'code', 'degree', 'preferred', 'degrees', 'identify', 'excellent', 'metrics', 'engineering', 'happiness', 'work', 'delivering', 'reports', 'write', 'organization', '2+', 'b2b', 'modify', 'key', 'sales', 'years', 'maintain', 'people', 'economics', 'background', 'fields', 'perform', 'critical', 'frameworks', 'similar', 'excel'}\n",
      "There are 105 skills in the job requirement list\n"
     ]
    }
   ],
   "source": [
    "print(set_of_job_skills)\n",
    "print(\"There are {skills} skills in the job requirement list\".format( skills = len(set_of_job_skills)))"
   ]
  },
  {
   "cell_type": "code",
   "execution_count": 19,
   "metadata": {},
   "outputs": [
    {
     "name": "stdout",
     "output_type": "stream",
     "text": [
      "This is the list comparison between skills and the job skills:  {'metrics', 'engineering', 'work', 'product', 'science', 'communication', 'skills', 'experience', 'operations', 'management', 'organization', 'technology', 'build', 'develop', 'strong', 'maintain', 'development', 'intelligence', 'code', 'business', 'sql', 'critical', 'identify', 'data', 'analytical'}\n",
      "The length of the comparison is:  25\n",
      "This is the final list of skills you have:  {'develop', 'development', 'data', 'sql'}\n",
      "The number of skills you possess for this job is:  4\n"
     ]
    }
   ],
   "source": [
    "##this is not required due it the fact that it is unfiltered and can create anomalies\n",
    "#job_vs_mykills = set_of_job_skills & set_of_my_skills\n",
    "#print(\"This is the list comparison between my skills and the job skills: \",job_vs_mykills)\n",
    "#print(\"The length of the comparison is: \",len(job_vs_mykills))\n",
    "job_vs_listskills = set_of_job_skills & set_of_skills\n",
    "print(\"This is the list comparison between skills and the job skills: \",job_vs_listskills)\n",
    "print(\"The length of the comparison is: \",len(job_vs_listskills))     \n",
    "final = job_vs_listskills & set_of_myskills\n",
    "print(\"This is the final list of skills you have: \", final)\n",
    "print(\"The number of skills you possess for this job is: \", len(final))"
   ]
  },
  {
   "cell_type": "code",
   "execution_count": 20,
   "metadata": {},
   "outputs": [
    {
     "name": "stdout",
     "output_type": "stream",
     "text": [
      "This list contains all the skills\n",
      "{'tech', 'linux', 'attention', 'building', 'ux', 'research', 'review', 'science', 'communication', 'networks', 'modeling', 'existing', 'teamwork', 'support', 'migrating', 'imports', 'queries', 'prototyping', 'tools', 'storage', 'input', 'backup', 'quality', 'apis', 'programming', 'integrating', 'navigation', 'agile', 'website', 'coding', 'system', 'development', 'logical', 'maintenance', 'strategy', 'motivation', 'design', 'configuration', 'sql', 'administration', 'principles', 'hardware', 'optimization', 'synchronize', 'services', 'applications', 'desktop', 'visualization', 'with', 'responsive', 'training', 'file', 'front', 'microsoft', 'team', 'data', 'databases', 'tasks', 'process', 'emerging', 'source', 'engine', 'product', 'analyze', '(seo)', 'protocols', 'understanding', 'audit', 'experience', 'operations', 'company’s', 'requests', 'problem', 'test', 'technology', 'starting', 'needs', 'flexibility', 'develop', 'soft', 'configure', 'monitoring', 'presentation', 'maintain,', '(qa)', 'methodology', 'usability', 'recommend', 'optimize', 'security', 'experiences', 'solving', 'visual', 'software', 'deployment', 'automation', 'documentation', 'changes', 'workloads', 'time', 'oriented', 'virtualization', 'server', 'deploying', 'access', 'application', 'leadership', 'user-centered', 'utilizing', 'technologies', 'database', 'big', 'flows', 'merge', 'analytical', 'environment', 'reporting', 'diagrams', 'interface', 'passwords', 'repairs', 'skills', 'mining', 'analytics', 'analysis', 'management', 'integration', 'end', 'mobile', 'messaging', 'build', 'assurance', 'project', 'plan', 'strong', 'tablets', 'operating', 'detail', 'office', 'visualizations', 'hosting', 'intelligence', 'interaction', 'technical', 'information', 'impact', 'internet', 'business', 'code', 'computer', 'thinking', 'open', 'processes', 'live', 'identify', 'ui', 'user', 'improvements', 'break-fix', '(aws)', 'amazon', 'network', 'capabilities', 'metrics', 'engineering', 'implement', 'customer', 'networking', 'work', 'optimizing', 'based', 'architecture', 'secure', 'motivated', 'structures', 'install,', 'performance', 'solid', 'prototypes', 'organization', 'interpersonal', 'writing', 'solutions', 'wireframes', 'languages', 'touch', 'recovery', 'content', 'integrated', 'testing', 'independently', 'search', 'continually', 'specifications', 'scenarios', 'help', 'installation', 'maintain', 'implementation', 'servers', 'troubleshooting', 'platforms', 'critical', 'systems', 'continuous', 'scalability', 'web', 'cloud', 'methods', 'google', 'self', 'improvement', 'developer'}\n",
      "The list contains my skills\n",
      "{'python', 'ipython', 'uml', 'entity-relationship', 'oracle', 'diagrams', 'state', 'articulate', 'analyze', 'matplotlib', 'spyder', 'html5', 'css3', 'analysis', 'relational', 'prioratization', 'requirement', 'diagram', 'project', 'prototyping', 'plot', 'use-cases', 'develop', 'clean', 'models', 'scenarios', 'anaconda', 'notebook', 'pandas', 'tableau', 'development', 'php', 'logical', 'design', 'mysq', 'sql', 'mysql', 'identifying', 'elicitation.', 'numpy', 'user', 'visualization', 'leadreship', 'database', 'team', 'surveys', 'sequence', 'data', 'jupyterlab'}\n",
      "The list contains job skills\n",
      "{'python', 'regularly', 'trends', 'believe', 'science', 'communication', 'variance', 'root', 'manner', 'results', 'development', 'recommendations', 'teams', 'curious', 'sql', 'growth', 'r', 'new', 'analyses', 'plus', 'scalable', 'mentioned', 'data', 'product', 'experience', 'unlock', 'operations', 'facilitate', 'technology', 'initiatives', 'monitor', 'dashboards', 'develop', 'cross-functional', 'ways', 'self-driven', 'bachelors', 'cause', 'fuel', 'marketing', 'group', 'communicate', 'mathematics', 'benchmarks', 'opportunities', 'self-guided', 'finance', 'users', 'future', 'efficient', 'analytical', 'decisions', 'passionate', 'drive', 'collaborate', 'skills', 'inherently', 'management', 'join', 'build', 'consulting', 'senior', 'stem', 'ability', 'strong', 'saas', 'committed', 'provide', 'intelligence', 'strategic', 'using', 'power', 'behind', 'high', 'business', 'code', 'degree', 'preferred', 'degrees', 'identify', 'excellent', 'metrics', 'engineering', 'happiness', 'work', 'delivering', 'reports', 'write', 'organization', '2+', 'b2b', 'modify', 'key', 'sales', 'years', 'maintain', 'people', 'economics', 'background', 'fields', 'perform', 'critical', 'frameworks', 'similar', 'excel'}\n"
     ]
    }
   ],
   "source": [
    "print(\"This list contains all the skills\")\n",
    "print(set_of_skills)\n",
    "print(\"The list contains my skills\")\n",
    "print(set_of_myskills)\n",
    "print(\"The list contains job skills\")\n",
    "print(set_of_job_skills)"
   ]
  },
  {
   "cell_type": "markdown",
   "metadata": {},
   "source": [
    "# Creating the scoring pattern\n",
    "In order to generate a bar chart, I used the length of the set as a mean to generate a numpy"
   ]
  },
  {
   "cell_type": "code",
   "execution_count": 26,
   "metadata": {},
   "outputs": [
    {
     "data": {
      "image/png": "[encoded data removed]",
      "text/plain": [
       "<matplotlib.figure.Figure at 0x2a3ea40db70>"
      ]
     },
     "metadata": {},
     "output_type": "display_data"
    }
   ],
   "source": [
    "objects = ('My Skills', 'Job Skills')\n",
    "y_pos = np.arange(len(objects))\n",
    "performance = [4,25]\n",
    " \n",
    "plt.bar(y_pos, performance, align='center', alpha=1)\n",
    "plt.xticks(y_pos, objects)\n",
    "plt.ylabel('Number of keywords')\n",
    "plt.title('Comparing Keywords')\n",
    " \n",
    "plt.show()"
   ]
  },
  {
   "cell_type": "code",
   "execution_count": null,
   "metadata": {},
   "outputs": [],
   "source": []
  }
 ],
 "metadata": {
  "kernelspec": {
   "display_name": "Python 3",
   "language": "python",
   "name": "python3"
  },
  "language_info": {
   "codemirror_mode": {
    "name": "ipython",
    "version": 3
   },
   "file_extension": ".py",
   "mimetype": "text/x-python",
   "name": "python",
   "nbconvert_exporter": "python",
   "pygments_lexer": "ipython3",
   "version": "3.6.4"
  }
 },
 "nbformat": 4,
 "nbformat_minor": 2
}
