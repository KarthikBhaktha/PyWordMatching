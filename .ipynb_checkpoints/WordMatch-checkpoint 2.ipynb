{
 "cells": [
  {
   "cell_type": "markdown",
   "metadata": {},
   "source": [
    "## Purpose:\n",
    "- To scan the text file (my Resume in this case)<br>\n",
    "- To scan the text file (Job Description and resposibilities) that contains matching key words<br>\n",
    "- Return the count of matched keywords and return the missing keywords<br>\n",
    "- Use a list of technical keywords to extract the key words from the job text file."
   ]
  },
  {
   "cell_type": "code",
   "execution_count": 1,
   "metadata": {},
   "outputs": [],
   "source": [
    "#use nltk to fetch stopwords.\n",
    "from nltk.corpus import stopwords\n",
    "from nltk.tokenize import word_tokenize\n",
    "import string\n",
    "import nltk"
   ]
  },
  {
   "cell_type": "markdown",
   "metadata": {},
   "source": [
    "# Cleaning skills text file.\n",
    "## Things to be done:\n",
    "- Open and read the text file\n",
    "- Tokenize the content (Converting each word & characters into individual tokens)<br>\n",
    "- Removing the punctuations (, . - \"white spaces\")<br>\n",
    "- Removing Stopwords (a, the , and, an , is........): Here you can find the entire list of stopwords https://gist.github.com/sebleier/554280<br>\n",
    "- Removing the duplicate elements from the list for more accuracy."
   ]
  },
  {
   "cell_type": "code",
   "execution_count": 4,
   "metadata": {},
   "outputs": [
    {
     "name": "stdout",
     "output_type": "stream",
     "text": [
      "['Scenarios', 'Tableau', 'Oracle', 'data', 'requirement', 'Pandas', 'sequence', 'prioratization', 'Develop', 'Matplotlib', 'prototyping', 'Logical', 'surveys', 'database', 'Models', 'Use-Cases', 'analyze', 'Notebook', 'Anaconda', 'UML', 'CSS3', 'Relational', 'diagrams', 'plot', 'Analyze', 'identifying', 'project', 'state', 'Design', 'development', 'Visualization', 'Spyder', 'Analysis', 'diagram', 'SQL', 'php', 'Data', 'NumPy', 'elicitation.', 'Leadreship', 'MySQL', 'user', 'articulate', 'Entity-Relationship', 'MySQ', 'HTML5', 'Clean', 'iPython', 'Jupyterlab', 'Team', 'Python']\n"
     ]
    }
   ],
   "source": [
    "#using content mmanager to open and read file\n",
    "#converted the text file into csv file\n",
    "with open(r'C:\\Users\\kats1\\Desktop\\Blacboard\\Python\\skills.csv', 'r', encoding=\"utf-8-sig\") as f:\n",
    "    stop_words = set(stopwords.words('english'))\n",
    "    contents = f.read()\n",
    "    tokenized_contents = word_tokenize(contents)\n",
    "    #removing the punctuations\n",
    "    tokenized_contents = filter(lambda x: x not in string.punctuation, tokenized_contents)\n",
    "    #removing stopwords \n",
    "    cleaned_content = filter(lambda x: x not in stop_words, tokenized_contents)\n",
    "    filtered_content = list(cleaned_content)\n",
    "    #getting rid of the duplicate elements in the list\n",
    "    nodup_filtered_content = list(set(filtered_content))\n",
    "    #print(type(nodup_filtered_content))\n",
    "print(nodup_filtered_content)"
   ]
  },
  {
   "cell_type": "markdown",
   "metadata": {},
   "source": [
    "# Uploading the text file to which the comparison needs to be made.\n",
    "- Performing the similar operation which is done above."
   ]
  },
  {
   "cell_type": "code",
   "execution_count": null,
   "metadata": {},
   "outputs": [],
   "source": [
    "#open and read the text file\n",
    "with open(r'C:\\Users\\kats1\\Desktop\\Blacboard\\Python\\jobdesc.txt', 'r', encoding=\"utf-8-sig\") as f1:\n",
    "    stop_words = set(stopwords.words('english'))\n",
    "    contents_f1 = f1.read()\n",
    "    tokenized_contents_f1 = word_tokenize(contents_f1)\n",
    "    #removing the punctuations\n",
    "    tokenized_contents_f1 = filter(lambda x: x not in string.punctuation, tokenized_contents_f1)\n",
    "    #removing stopwords \n",
    "    cleaned_content_f1 = filter(lambda x: x not in stop_words, tokenized_contents_f1)\n",
    "    filtered_content_f1 = list(cleaned_content_f1)\n",
    "    #getting rid of the duplicate elements in the list\n",
    "    nodup_filtered_content_f1 = list(set(filtered_content_f1))\n",
    "    print(type(nodup_filtered_content_f1))\n",
    "print(nodup_filtered_content_f1)"
   ]
  },
  {
   "cell_type": "markdown",
   "metadata": {},
   "source": [
    "## Comaparing the 2 lists.\n",
    "### Goal:\n",
    "- compare the lists and return a list which contains the matching elements and the ones that are not in the 1st list."
   ]
  },
  {
   "cell_type": "code",
   "execution_count": null,
   "metadata": {},
   "outputs": [],
   "source": [
    "# writing a funtiion that returns the common elements after comparung the 2 lists.\n",
    "def compare(list1 , list2):\n",
    "    for elements in list1:\n",
    "        if elements in list2:\n",
    "            return elements\n",
    "            \n",
    "        \n",
    "        "
   ]
  },
  {
   "cell_type": "code",
   "execution_count": null,
   "metadata": {},
   "outputs": [],
   "source": [
    "compare(nodup_filtered_content,nodup_filtered_content_f1)"
   ]
  },
  {
   "cell_type": "code",
   "execution_count": 20,
   "metadata": {},
   "outputs": [
    {
     "name": "stdout",
     "output_type": "stream",
     "text": [
      "['Assign Passwords and Maintain Database Access,Agile Development,Agile Project Methodology,Amazon Web Services (AWS),Analytics,Analytical,Analyze and Recommend Database Improvements,Analyze Impact of Database Changes to the Business,Audit Database Access and Requests,APIs,Application and Server Monitoring Tools,Applications,Application Development,Attention to Detail,Architecture,Big Data,Business Analytics,Business Intelligence,Business Process Modeling,Cloud Applications,Cloud Based Visualizations,Cloud Hosting Services,Cloud Maintenance Tasks,Cloud Management Tools,Cloud Platforms,Cloud Scalability,Cloud Services,Cloud Systems Administration,Code,Coding,Computer,Communication,Configure Database Software,Configuration,Configuration Management,Content Strategy,Content Management,Continually Review Processes for Improvement ,Continuous Deployment,Continuous Integration,Critical Thinking,Customer Support,Database,Data Analysis,Data Analytics,Data Imports,Data Imports,Data Intelligence,Data Mining,Data Modeling,Data Science,Data Strategy,Data Storage,Data Visualization Tools,Data Visualizations,Database Administration,Deploying Applications in a Cloud Environment,Deployment Automation Tools,Deployment of Cloud Services,Design,Desktop Support,Design,Design and Build Database Management System,Design Principles,Design Prototypes,Design Specifications,Design Tools,Develop and Secure Network Structures,Develop and Test Methods to Synchronize Data ,Developer,Development,Documentation,Emerging Technologies,File Systems,Flexibility,Front End Design,Google Analytics,Hardware,Help Desk,Identify User Needs ,Implement Backup and Recovery Plan ,Implementation,Information Architecture,Information Design,Information Systems,Interaction Design,Interaction Flows,\"Install, Maintain, and Merge Databases \",Installation,Integrated Technologies,Integrating Security Protocols with Cloud Design,Internet,IT Optimization,IT Security,IT Soft Skills,IT Solutions,IT Support,Languages,Logical Thinking,Leadership,Linux,Management,Messaging,Methodology,Metrics,Microsoft Office,Migrating Existing Workloads into Cloud Systems,Mobile Applications,Motivation,Networks,Network Operations,Networking,Open Source Technology Integration,Operating Systems,Operations,Optimize Queries on Live Data,Optimizing User Experiences,Optimizing Website Performance,Organization,Presentation,Programming,Problem Solving,Process Flows,Product Design,Product Development,Prototyping Methods,Product Development,Product Management,Product Support,Product Training,Project Management,Repairs,Reporting,Research Emerging Technology,Responsive Design,Review Existing Solutions,Search Engine Optimization (SEO),Security,Self Motivated,Self Starting,Servers,Software,Software Development,Software Engineering,Software Quality Assurance (QA),Solid Project Management Capabilities ,Solid Understanding of Company’s Data Needs ,Storage,Strong Technical and Interpersonal Communication ,Support,Systems Software,Tablets,Team Building,Team Oriented,Teamwork,Technology,Tech Skills,Technical Support,Technical Writing,Testing,Time Management,Tools,Touch Input Navigation,Training,Troubleshooting,Troubleshooting Break-Fix Scenarios,User Research,User Testing,Usability,User-Centered Design,User Experience,User Flows,User Interface,User Interaction Diagrams,User Research,User Testing,UI / UX,Utilizing Cloud Automation Tools,Virtualization,Visual Design,Web Analytics,Web Applications,Web Development,Web Design,Web Technologies,Wireframes,Work Independently,']\n"
     ]
    }
   ],
   "source": [
    "#open and read by line from the text file\n",
    "with open(r'C:\\Users\\kats1\\Desktop\\Blacboard\\Python\\list_of_skills.csv', 'r') as f2:\n",
    "    contents_f2 = f2.readlines()\n",
    "    list_contents = list(contents_f2)\n",
    "    print(list_contents)\n",
    "    #removing the whhitespaces\n",
    "    #contents_f2 = map(lambda s: s.strip(), contents_f2)\n",
    "    #check the type of object\n",
    "    #print(type(contents_f2))\n",
    "    #conert the maps object into list object\n",
    "    #contents_f2 = list(contents_f2)\n",
    "    #check again for the object type\n",
    "    #print(type(contents_f2))\n",
    "#output    \n",
    "#print(set(contents_f2))\n",
    "    #nodup_filtered_content_f2 = list(set(contents_f2))\n",
    "    #print(type(nodup_filtered_content))\n",
    "#print(nodup_filtered_content_f2)"
   ]
  },
  {
   "cell_type": "code",
   "execution_count": null,
   "metadata": {},
   "outputs": [],
   "source": []
  }
 ],
 "metadata": {
  "kernelspec": {
   "display_name": "Python 3",
   "language": "python",
   "name": "python3"
  },
  "language_info": {
   "codemirror_mode": {
    "name": "ipython",
    "version": 3
   },
   "file_extension": ".py",
   "mimetype": "text/x-python",
   "name": "python",
   "nbconvert_exporter": "python",
   "pygments_lexer": "ipython3",
   "version": "3.6.4"
  }
 },
 "nbformat": 4,
 "nbformat_minor": 2
}
