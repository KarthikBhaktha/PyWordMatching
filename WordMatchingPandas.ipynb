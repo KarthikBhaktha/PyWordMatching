{
 "cells": [
  {
   "cell_type": "markdown",
   "metadata": {},
   "source": [
    "## Using Pandas to make comaparisons between the text files:\n",
    "### Things did :\n",
    "- Converted the text file into a CSV with UTF-8 encoding and all lowercase characters.\n",
    "- Created a pandas data frame conerted it into a set to remove duplicate values\n",
    "- Using the '&' operator to return a union of the 2 strings.\n",
    "## Things needed to be done.\n",
    "- Figure aout a way to deal with the job desc skills.\n",
    "- Figure out a way to score and make the project look more appealing.\n"
   ]
  },
  {
   "cell_type": "code",
   "execution_count": 73,
   "metadata": {},
   "outputs": [],
   "source": [
    "#use nltk to fetch stopwords.\n",
    "from nltk.corpus import stopwords\n",
    "from nltk.tokenize import word_tokenize\n",
    "import string\n",
    "import nltk\n",
    "import pandas as pd"
   ]
  },
  {
   "cell_type": "code",
   "execution_count": 74,
   "metadata": {},
   "outputs": [],
   "source": [
    "#import the list_of_skills.csv file into pandas df\n",
    "listofskills = pd.read_csv('C:\\\\Users\\\\kats1\\\\Desktop\\\\Blacboard\\\\Python\\\\list_of_skills.csv',encoding='utf-8',header=None)\n",
    "listofskills.dropna(axis=1,inplace=True)\n",
    "#convert the df into a set to remove any duplicates\n",
    "set_of_skills = set(listofskills.iloc[0,])\n",
    "#import the skills.csv file into pandas df\n",
    "myskills = pd.read_csv('C:\\\\Users\\\\kats1\\\\Desktop\\\\Blacboard\\\\Python\\\\skills.csv',encoding='utf-8',header=None)\n",
    "myskills.dropna(axis=1,inplace=True)\n",
    "set_of_my_skills = set(myskills.iloc[0,])\n",
    "comparison = set_of_my_skills & set_of_skills"
   ]
  },
  {
   "cell_type": "code",
   "execution_count": 75,
   "metadata": {},
   "outputs": [
    {
     "name": "stdout",
     "output_type": "stream",
     "text": [
      "{'data analysis', 'teamwork', 'web design', 'business intelligence', 'analytics', 'design', 'web development', 'troubleshooting', 'database', 'critical thinking', 'data science'}\n",
      "The length of the set is: 11\n",
      "182\n"
     ]
    }
   ],
   "source": [
    "print(comparison)\n",
    "print(\"The length of the set is: {lent}\".format(lent= len(comparison)))\n",
    "print(len(set_of_skills))"
   ]
  },
  {
   "cell_type": "code",
   "execution_count": 76,
   "metadata": {},
   "outputs": [
    {
     "name": "stdout",
     "output_type": "stream",
     "text": [
      "{'python', 'science', 'strong', 'stem', 'strategic', 'sql', 'collaborate', 'sales', 'results', 'fields', 'preferred', 'mentioned', 'skills', 'new', 'identify', 'maintain', 'trends', 'bachelors', 'growth', 'excel', 'teams', 'technology', 'similar', 'mathematics', 'using', 'future', 'initiatives', 'inherently', 'delivering', 'regularly', 'cause', 'benchmarks', 'analytical', 'metrics', 'build', 'analyses', 'critical', 'develop', 'operations', 'happiness', 'believe', 'recommendations', 'code', 'years', 'consulting', 'people', 'intelligence', 'excellent', 'engineering', 'saas', 'passionate', 'background', 'economics', 'frameworks', 'curious', 'work', 'behind', 'plus', 'modify', '2+', 'product', 'users', 'root', 'decisions', 'scalable', 'drive', 'variance', 'business', 'ways', 'degree', 'group', 'dashboards', 'experience', 'high', 'development', 'write', 'communicate', 'perform', 'power', 'manner', 'communication', 'finance', 'committed', 'organization', 'self-driven', 'degrees', 'self-guided', 'join', 'unlock', 'opportunities', 'key', 'senior', 'provide', 'cross-functional', 'marketing', 'b2b', 'facilitate', 'fuel', 'reports', 'ability', 'r', 'monitor', 'management', 'efficient', 'data'}\n",
      "There are 105 skills in the job requirement list\n"
     ]
    }
   ],
   "source": [
    "#open the job description text file  and read the text file\n",
    "with open(r'C:\\Users\\kats1\\Desktop\\Blacboard\\Python\\jobdesc.txt', 'r', encoding=\"utf-8-sig\") as f1:\n",
    "    stop_words = set(stopwords.words('english'))\n",
    "    contents_f1 = f1.read()\n",
    "    tokenized_contents_f1 = word_tokenize(contents_f1)\n",
    "    #removing the punctuations\n",
    "    tokenized_contents_f1 = filter(lambda x: x not in string.punctuation, tokenized_contents_f1)\n",
    "    #removing stopwords \n",
    "    cleaned_content_f1 = filter(lambda x: x not in stop_words, tokenized_contents_f1)\n",
    "    #all the strings are converted to lowercase and split at ','\n",
    "    filtered_content_f1 = [y.strip().lower() for x in cleaned_content_f1 for y in x.split(',')]\n",
    "    #getting rid of the duplicate elements in the list\n",
    "    set_of_job_skills = set(filtered_content_f1)\n",
    "    print(set_of_job_skills)\n",
    "    print(\"There are {skills} skills in the job requirement list\".format( skills = len(set_of_job_skills)))"
   ]
  },
  {
   "cell_type": "code",
   "execution_count": 77,
   "metadata": {},
   "outputs": [
    {
     "name": "stdout",
     "output_type": "stream",
     "text": [
      "This is the list comparison between my skills and the job skills:  {'sql', 'python', 'develop', 'data'}\n",
      "The length oh the comparison is:  4\n",
      "This is the list comparison between skills and the job skills:  {'operations', 'analytical', 'management', 'communication', 'metrics', 'technology', 'code', 'organization', 'development'}\n",
      "The length oh the comparison is:  9\n"
     ]
    }
   ],
   "source": [
    "job_vs_mykills = set_of_job_skills & set_of_my_skills\n",
    "print(\"This is the list comparison between my skills and the job skills: \",job_vs_mykills)\n",
    "print(\"The length oh the comparison is: \",len(job_vs_mykills))\n",
    "job_vs_listskills = set_of_job_skills & set_of_skills\n",
    "print(\"This is the list comparison between skills and the job skills: \",job_vs_listskills)\n",
    "print(\"The length oh the comparison is: \",len(job_vs_listskills))     "
   ]
  },
  {
   "cell_type": "code",
   "execution_count": 66,
   "metadata": {},
   "outputs": [
    {
     "name": "stdout",
     "output_type": "stream",
     "text": [
      "This list contains the all the skills\n",
      "{'file systems', 'data analysis', 'flexibility', 'integrated technologies', 'it support', 'methodology', 'review existing solutions', 'web applications', 'continuous deployment', 'web analytics', 'it security', 'optimize queries on live data', 'data strategy', 'web technologies', 'data science', 'tools', 'business process modeling', 'content strategy', 'customer support', 'data analytics', 'attention to detail', 'troubleshooting', 'apis', 'motivation', 'product training', 'time management', 'coding', 'agile development', 'google analytics', 'implement backup and recovery plan ', 'product development', 'repairs', 'cloud scalability', 'technical writing', 'amazon web services (aws)', 'interaction design', 'architecture', 'product support', 'prototyping methods', 'troubleshooting break-fix scenarios', 'optimizing user experiences', 'technology', 'self motivated', 'training', 'languages', 'continuous integration', 'cloud systems administration', 'research emerging technology', 'implementation', 'design specifications', 'web design', 'applications', 'data mining', 'developer', 'user interface', 'data modeling', 'data storage', 'presentation', 'user-centered design', 'analyze impact of database changes to the business', 'identify user needs ', 'storage', 'analytical', 'team building', 'metrics', 'design and build database management system', 'cloud hosting services', 'security', 'configuration', 'testing', 'solid project management capabilities ', 'critical thinking', 'big data', 'hardware', 'software development', 'touch input navigation', 'operations', 'tech skills', 'analytics', 'code', 'audit database access and requests', 'database', 'business analytics', 'user flows', 'self starting', 'project management', 'software quality assurance (qa)', 'process flows', 'open source technology integration', 'design prototypes', 'wireframes', 'deployment automation tools', 'develop and secure network structures', 'business intelligence', 'microsoft office', 'information design', 'mobile applications', 'design tools', 'servers', 'deployment of cloud services', 'configure database software', 'technical support', 'problem solving', 'programming', 'deploying applications in a cloud environment', 'data imports', 'interaction flows', 'data visualization tools', 'user testing', 'utilizing cloud automation tools', 'networks', 'cloud based visualizations', 'tablets', 'product design', 'documentation', 'software engineering', 'integrating security protocols with cloud design', 'user interaction diagrams', 'cloud applications', 'responsive design', 'cloud maintenance tasks', 'product management', 'database administration', 'application and server monitoring tools', 'reporting', 'user research', 'install, maintain, and merge databases ', 'cloud management tools', 'front end design', 'development', 'solid understanding of company’s data needs ', 'communication', 'content management', 'work independently', 'messaging', 'organization', 'it optimization', 'network operations', 'software', 'user experience', 'continually review processes for improvement ', 'team oriented', 'design principles', 'ui / ux', 'develop and test methods to synchronize data ', 'desktop support', 'cloud platforms', 'emerging technologies', 'web development', 'migrating existing workloads into cloud systems', 'computer', 'data intelligence', 'it solutions', 'support', 'information architecture', 'design', 'logical thinking', 'leadership', 'data visualizations', 'systems software', 'visual design', 'assign passwords and maintain database access', 'agile project methodology', 'information systems', 'linux', 'application development', 'networking', 'cloud services', 'teamwork', 'installation', 'internet', 'usability', 'analyze and recommend database improvements', 'it soft skills', 'optimizing website performance', 'management', 'operating systems', 'search engine optimization (seo)', 'strong technical and interpersonal communication ', 'configuration management', 'help desk', 'virtualization'}\n",
      "The list contains my skills\n",
      "{'leadreship', 'data analysis', 'business analysis', 'identifying', 'web design', 'business intelligence', 'requirement elicitation.', 'python', 'team', 'surveys', 'prioratization', 'scenarios', 'data science', 'use-cases ', 'interpersonal communication', 'identify user needs', 'articulate', 'spyder', 'mysq', 'sql', 'pandas', 'ipython notebook', 'web development', 'troubleshooting', 'critical thinking', 'entity-relationship', 'data modelling', 'jupyterlab', 'prototyping', 'anaconda', 'plot', 'tableau', 'analytics', 'design', 'matplotlib', 'data models', 'database', 'php', 'state diagram', 'project development ', 'uml diagrams', 'relational database', 'css3', 'clean', 'logical data models', 'user requirement', 'develop ', 'teamwork', 'mysql', 'sequence diagram', 'analytical thinking', 'numpy', 'oracle sql', ' data storage', 'data visualization', 'html5', 'analyze', 'data'}\n",
      "The list contains job skills\n",
      "{'python', 'science', 'strong', 'stem', 'strategic', 'sql', 'collaborate', 'sales', 'results', 'fields', 'preferred', 'mentioned', 'skills', 'new', 'identify', 'maintain', 'trends', 'bachelors', 'growth', 'excel', 'teams', 'technology', 'similar', 'mathematics', 'using', 'future', 'initiatives', 'inherently', 'delivering', 'regularly', 'cause', 'benchmarks', 'analytical', 'metrics', 'build', 'analyses', 'critical', 'develop', 'operations', 'happiness', 'believe', 'recommendations', 'code', 'years', 'consulting', 'people', 'intelligence', 'excellent', 'engineering', 'saas', 'passionate', 'background', 'economics', 'frameworks', 'curious', 'work', 'behind', 'plus', 'modify', '2+', 'product', 'users', 'root', 'decisions', 'scalable', 'drive', 'variance', 'business', 'ways', 'degree', 'group', 'dashboards', 'experience', 'high', 'development', 'write', 'communicate', 'perform', 'power', 'manner', 'communication', 'finance', 'committed', 'organization', 'self-driven', 'degrees', 'self-guided', 'join', 'unlock', 'opportunities', 'key', 'senior', 'provide', 'cross-functional', 'marketing', 'b2b', 'facilitate', 'fuel', 'reports', 'ability', 'r', 'monitor', 'management', 'efficient', 'data'}\n"
     ]
    }
   ],
   "source": [
    "print(\"This list contains the all the skills\")\n",
    "print(set_of_skills)\n",
    "#need to get rid of whitespaces in the ist below.\n",
    "\n",
    "#fixed whitespaces at the source.\n",
    "print(\"The list contains my skills\")\n",
    "print(set_of_my_skills)\n",
    "\n",
    "print(\"The list contains job skills\")\n",
    "print(set_of_job_skills)"
   ]
  },
  {
   "cell_type": "code",
   "execution_count": null,
   "metadata": {},
   "outputs": [],
   "source": []
  },
  {
   "cell_type": "code",
   "execution_count": null,
   "metadata": {},
   "outputs": [],
   "source": []
  }
 ],
 "metadata": {
  "kernelspec": {
   "display_name": "Python 3",
   "language": "python",
   "name": "python3"
  },
  "language_info": {
   "codemirror_mode": {
    "name": "ipython",
    "version": 3
   },
   "file_extension": ".py",
   "mimetype": "text/x-python",
   "name": "python",
   "nbconvert_exporter": "python",
   "pygments_lexer": "ipython3",
   "version": "3.6.4"
  }
 },
 "nbformat": 4,
 "nbformat_minor": 2
}
