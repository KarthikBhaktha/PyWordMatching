{
 "cells": [
  {
   "cell_type": "markdown",
   "metadata": {},
   "source": [
    "# Using Pandas to make comaparisons between the text files:\n",
    "## Things did :\n",
    "- Converted the text file into a CSV with UTF-8 encoding and all lowercase characters.\n",
    "- Created a pandas data frame conerted it into a set to remove duplicate values\n",
    "- Using the '&' operator to return a union of the 2 strings.\n",
    "### Things needed to be done.\n",
    "- Figure aout a way to deal with the job desc skills.\n",
    "- Figure out a way to score and make the project look more appealing.\n",
    "### Goal is to scan through the job description and pull out technical keywords by filtering them out using a set of keywords<br>and returning the list of keywords which can be used to alter the resume in order to tailor the resume based on the list of keywords found\n"
   ]
  },
  {
   "cell_type": "markdown",
   "metadata": {},
   "source": [
    "# Importing libraries"
   ]
  },
  {
   "cell_type": "code",
   "execution_count": 14,
   "metadata": {},
   "outputs": [],
   "source": [
    "#use nltk to fetch stopwords.\n",
    "from nltk.corpus import stopwords\n",
    "from nltk.tokenize import word_tokenize\n",
    "import string\n",
    "import nltk\n",
    "import pandas as pd\n",
    "import matplotlib.pyplot as plt\n",
    "import matplotlib.pyplot as plt; plt.rcdefaults()\n",
    "import numpy as np\n",
    "import matplotlib.pyplot as plt\n",
    "%matplotlib inline"
   ]
  },
  {
   "cell_type": "markdown",
   "metadata": {},
   "source": [
    "### Reading the list of csv files and loading them on to a dataframe using pandas"
   ]
  },
  {
   "cell_type": "code",
   "execution_count": 9,
   "metadata": {},
   "outputs": [
    {
     "name": "stdout",
     "output_type": "stream",
     "text": [
      "{'maintain', 'imports', 'recovery', 'prototyping', 'mobile', 'configure', 'responsive', 'front', 'interaction', 'networks', 'design', 'based', 'continuous', 'audit', 'develop', 'methodology', 'automation', 'team', 'support', 'visualization', 'changes', 'workloads', 'business', 'mining', 'capabilities', 'visual', 'development', 'impact', 'test', 'writing', 'wireframes', 'customer', 'database', 'tech', 'building', 'soft', 'integrating', 'strategy', 'user', 'solutions', 'software', 'organization', 'oriented', 'work', 'input', 'attention', 'solving', 'scalability', 'hosting', 'secure', 'integration', 'apis', 'requests', 'understanding', 'teamwork', 'communication', 'amazon', 'process', 'cloud', 'applications', 'needs', 'repairs', 'queries', 'server', 'touch', 'skills', 'motivated', 'quality', 'testing', 'big', 'engineering', 'maintenance', 'leadership', 'deploying', 'platforms', 'networking', 'training', 'databases', 'security', 'science', 'microsoft', '(qa)', 'google', 'principles', 'emerging', 'improvement', 'passwords', 'modeling', 'administration', 'intelligence', 'detail', 'experiences', 'end', 'linux', 'network', 'reporting', 'interpersonal', 'optimization', 'programming', 'user-centered', 'monitoring', 'experience', 'analytical', 'technical', 'engine', 'access', 'solid', 'coding', 'environment', '(seo)', 'review', 'desktop', 'scenarios', 'thinking', 'tools', 'specifications', 'sql', 'interface', 'implement', 'computer', 'performance', 'hardware', 'ui', 'implementation', 'search', 'tasks', 'protocols', 'ux', 'continually', 'backup', 'optimize', 'usability', 'assurance', 'plan', 'information', 'messaging', 'recommend', 'help', 'documentation', 'critical', 'install,', 'servers', 'developer', 'starting', 'website', 'prototypes', 'maintain,', 'processes', 'application', 'web', 'office', 'project', 'file', 'operations', 'navigation', 'analytics', 'technologies', 'integrated', 'independently', 'diagrams', 'motivation', 'break-fix', 'build', 'structures', 'visualizations', 'configuration', 'existing', 'languages', 'deployment', 'storage', 'migrating', 'code', 'installation', 'optimizing', 'identify', 'company’s', 'management', 'presentation', 'logical', 'system', 'metrics', 'source', 'synchronize', 'agile', 'virtualization', 'time', 'problem', 'technology', 'improvements', 'merge', '(aws)', 'flexibility', 'with', 'data', 'open', 'methods', 'architecture', 'self', 'internet', 'product', 'tablets', 'analyze', 'flows', 'operating', 'troubleshooting', 'utilizing', 'analysis', 'content', 'systems', 'live', 'research', 'strong', 'services'}\n",
      "The number of elements in this list are: 213\n"
     ]
    }
   ],
   "source": [
    "#import the list_of_skills.csv file into pandas df\n",
    "##listofskills = pd.read_csv('C:\\\\Users\\\\kats1\\\\Desktop\\\\Blacboard\\\\Python\\\\list_of_skills.csv',encoding='utf-8',delimiter = \",\",header=None)\n",
    "##listofskills.dropna(axis=1,inplace=True)\n",
    "#convert the df into a set to remove any duplicates\n",
    "##set_of_skills = set(listofskills.iloc[0,])\n",
    "#code to clean the \n",
    "#open and read by line from the text file\n",
    "with open(r'C:\\Users\\kats1\\Desktop\\Blacboard\\Python\\list_of_skills.txt', 'r',encoding = 'utf-8') as f2:\n",
    "    #using readlines() instead of read(), becasue it reads line by line (each line as a string obj in the python list)\n",
    "    contents_f2 = f2.readlines()\n",
    "    #converting mall the string in the list to lowercase\n",
    "    list_of_skills = [y.strip().lower() for x in contents_f2 for y in x.split(' ')]\n",
    "    #removing stopwords\n",
    "    cleaned_content_f2 = filter(lambda x: x not in stop_words, contents_f2)\n",
    "    #converting into sets\n",
    "    set_of_skills = set(list_of_skills)\n",
    "    set_of_skills.difference_update({'\\ufeffassign','' '','to','into','/','it','of','for','and','on','a','the','in','desk'})\n",
    "print(set_of_skills)\n",
    "print(\"The number of elements in this list are: {mthd}\".format(mthd = len(set_of_skills)))\n",
    "#import the skills.csv file into pandas df\n",
    "myskills = pd.read_csv('C:\\\\Users\\\\kats1\\\\Desktop\\\\Blacboard\\\\Python\\\\skills.csv',encoding='utf-8',header=None)\n",
    "myskills.dropna(axis=1,inplace=True)\n",
    "set_of_my_skills = set(myskills.iloc[0,])\n",
    "comparison = set_of_my_skills & set_of_skills"
   ]
  },
  {
   "cell_type": "code",
   "execution_count": 10,
   "metadata": {},
   "outputs": [
    {
     "name": "stdout",
     "output_type": "stream",
     "text": [
      "{'design', 'develop', 'prototyping', 'analyze', 'troubleshooting', 'sql', 'scenarios', 'analytics', 'database', 'team', 'management', 'teamwork', 'data'}\n",
      "The length of the set is: 13\n"
     ]
    }
   ],
   "source": [
    "print(comparison)\n",
    "print(\"The length of the set is: {lent}\".format(lent= len(comparison)))"
   ]
  },
  {
   "cell_type": "code",
   "execution_count": 11,
   "metadata": {},
   "outputs": [
    {
     "name": "stdout",
     "output_type": "stream",
     "text": [
      "{'maintain', 'committed', 'believe', 'sales', 'power', 'develop', 'group', 'join', 'business', 'dashboards', 'teams', 'degrees', 'people', 'delivering', 'development', 'python', 'cause', 'mentioned', 'new', 'organization', 'perform', 'work', 'write', 'strategic', 'modify', 'collaborate', 'regularly', 'similar', 'communication', 'efficient', 'analyses', 'self-guided', 'skills', 'degree', 'engineering', 'behind', 'trends', 'r', 'background', 'science', '2+', 'intelligence', 'users', 'unlock', 'plus', 'marketing', 'reports', 'experience', 'b2b', 'analytical', 'inherently', 'using', 'passionate', 'economics', 'sql', 'facilitate', 'variance', 'curious', 'preferred', 'self-driven', 'years', 'initiatives', 'fuel', 'drive', 'recommendations', 'ways', 'finance', 'communicate', 'frameworks', 'critical', 'root', 'operations', 'excellent', 'happiness', 'results', 'manner', 'monitor', 'bachelors', 'excel', 'fields', 'build', 'opportunities', 'ability', 'decisions', 'saas', 'scalable', 'code', 'identify', 'key', 'management', 'metrics', 'benchmarks', 'consulting', 'stem', 'technology', 'senior', 'data', 'high', 'product', 'future', 'growth', 'provide', 'mathematics', 'strong', 'cross-functional'}\n",
      "There are 105 skills in the job requirement list\n"
     ]
    }
   ],
   "source": [
    "#open the job description text file  and read the text file\n",
    "with open(r'C:\\Users\\kats1\\Desktop\\Blacboard\\Python\\jobdesc.txt', 'r', encoding=\"utf-8-sig\") as f1:\n",
    "    stop_words = set(stopwords.words('english'))\n",
    "    contents_f1 = f1.read()\n",
    "    tokenized_contents_f1 = word_tokenize(contents_f1)\n",
    "    #removing the punctuations\n",
    "    tokenized_contents_f1 = filter(lambda x: x not in string.punctuation, tokenized_contents_f1)\n",
    "    #removing stopwords \n",
    "    cleaned_content_f1 = filter(lambda x: x not in stop_words, tokenized_contents_f1)\n",
    "    #all the strings are converted to lowercase and split at ','\n",
    "    filtered_content_f1 = [y.strip().lower() for x in cleaned_content_f1 for y in x.split(\" \")]\n",
    "    #getting rid of the duplicate elements in the list\n",
    "    set_of_job_skills = set(filtered_content_f1)\n",
    "    print(set_of_job_skills)\n",
    "    print(\"There are {skills} skills in the job requirement list\".format( skills = len(set_of_job_skills)))"
   ]
  },
  {
   "cell_type": "code",
   "execution_count": 12,
   "metadata": {},
   "outputs": [
    {
     "name": "stdout",
     "output_type": "stream",
     "text": [
      "This is the list comparison between my skills and the job skills:  {'develop', 'python', 'sql', 'management', 'data'}\n",
      "The length of the comparison is:  5\n",
      "This is the list comparison between skills and the job skills:  {'maintain', 'communication', 'build', 'sql', 'skills', 'engineering', 'develop', 'code', 'identify', 'management', 'science', 'metrics', 'business', 'development', 'technology', 'intelligence', 'data', 'critical', 'organization', 'work', 'operations', 'experience', 'product', 'analytical', 'strong'}\n",
      "The length of the comparison is:  25\n",
      "This is the final list of skills you have:  {'develop', 'sql', 'management', 'data'}\n",
      "The number of skills you possess for this job is:  4\n"
     ]
    }
   ],
   "source": [
    "job_vs_mykills = set_of_job_skills & set_of_my_skills\n",
    "print(\"This is the list comparison between my skills and the job skills: \",job_vs_mykills)\n",
    "print(\"The length of the comparison is: \",len(job_vs_mykills))\n",
    "job_vs_listskills = set_of_job_skills & set_of_skills\n",
    "print(\"This is the list comparison between skills and the job skills: \",job_vs_listskills)\n",
    "print(\"The length of the comparison is: \",len(job_vs_listskills))     \n",
    "final = job_vs_listskills & job_vs_mykills\n",
    "print(\"This is the final list of skills you have: \", final)\n",
    "print(\"The number of skills you possess for this job is: \", len(final))"
   ]
  },
  {
   "cell_type": "code",
   "execution_count": 13,
   "metadata": {},
   "outputs": [
    {
     "name": "stdout",
     "output_type": "stream",
     "text": [
      "This list contains the all the skills\n",
      "{'maintain', 'imports', 'recovery', 'prototyping', 'mobile', 'configure', 'responsive', 'front', 'interaction', 'networks', 'design', 'based', 'continuous', 'audit', 'develop', 'methodology', 'automation', 'team', 'support', 'visualization', 'changes', 'workloads', 'business', 'mining', 'capabilities', 'visual', 'development', 'impact', 'test', 'writing', 'wireframes', 'customer', 'database', 'tech', 'building', 'soft', 'integrating', 'strategy', 'user', 'solutions', 'software', 'organization', 'oriented', 'work', 'input', 'attention', 'solving', 'scalability', 'hosting', 'secure', 'integration', 'apis', 'requests', 'understanding', 'teamwork', 'communication', 'amazon', 'process', 'cloud', 'applications', 'needs', 'repairs', 'queries', 'server', 'touch', 'skills', 'motivated', 'quality', 'testing', 'big', 'engineering', 'maintenance', 'leadership', 'deploying', 'platforms', 'networking', 'training', 'databases', 'security', 'science', 'microsoft', '(qa)', 'google', 'principles', 'emerging', 'improvement', 'passwords', 'modeling', 'administration', 'intelligence', 'detail', 'experiences', 'end', 'linux', 'network', 'reporting', 'interpersonal', 'optimization', 'programming', 'user-centered', 'monitoring', 'experience', 'analytical', 'technical', 'engine', 'access', 'solid', 'coding', 'environment', '(seo)', 'review', 'desktop', 'scenarios', 'thinking', 'tools', 'specifications', 'sql', 'interface', 'implement', 'computer', 'performance', 'hardware', 'ui', 'implementation', 'search', 'tasks', 'protocols', 'ux', 'continually', 'backup', 'optimize', 'usability', 'assurance', 'plan', 'information', 'messaging', 'recommend', 'help', 'documentation', 'critical', 'install,', 'servers', 'developer', 'starting', 'website', 'prototypes', 'maintain,', 'processes', 'application', 'web', 'office', 'project', 'file', 'operations', 'navigation', 'analytics', 'technologies', 'integrated', 'independently', 'diagrams', 'motivation', 'break-fix', 'build', 'structures', 'visualizations', 'configuration', 'existing', 'languages', 'deployment', 'storage', 'migrating', 'code', 'installation', 'optimizing', 'identify', 'company’s', 'management', 'presentation', 'logical', 'system', 'metrics', 'source', 'synchronize', 'agile', 'virtualization', 'time', 'problem', 'technology', 'improvements', 'merge', '(aws)', 'flexibility', 'with', 'data', 'open', 'methods', 'architecture', 'self', 'internet', 'product', 'tablets', 'analyze', 'flows', 'operating', 'troubleshooting', 'utilizing', 'analysis', 'content', 'systems', 'live', 'research', 'strong', 'services'}\n",
      "The list contains my skills\n",
      "{'jupyterlab', 'data modelling', 'use-cases ', 'analytical thinking', 'user requirement', 'data analysis', 'business intelligence', 'business analysis', 'prototyping', 'mysq', 'sql', 'scenarios', 'critical thinking', 'web design', 'anaconda', 'surveys', 'ipython notebook', 'design', 'mysql', 'html5', 'develop', 'tableau', 'matplotlib', ' data storage', 'requirement elicitation', 'relational database', 'team', 'management', 'data visualization', 'spyder', 'css3', 'pandas', 'articulate', 'php', 'python', 'numpy', 'web development', 'state diagram', 'interpersonal communication', 'database', 'prioratization', 'data', 'sequence diagram', 'logical data models', 'plot', 'identify user needs', 'project development', 'data science', 'troubleshooting', 'analyze', 'analytics', 'data models', 'oracle sql', 'clean', 'leadreship', 'uml diagrams', 'identifying', 'teamwork', 'entity-relationship'}\n",
      "The list contains job skills\n",
      "{'maintain', 'committed', 'believe', 'sales', 'power', 'develop', 'group', 'join', 'business', 'dashboards', 'teams', 'degrees', 'people', 'delivering', 'development', 'python', 'cause', 'mentioned', 'new', 'organization', 'perform', 'work', 'write', 'strategic', 'modify', 'collaborate', 'regularly', 'similar', 'communication', 'efficient', 'analyses', 'self-guided', 'skills', 'degree', 'engineering', 'behind', 'trends', 'r', 'background', 'science', '2+', 'intelligence', 'users', 'unlock', 'plus', 'marketing', 'reports', 'experience', 'b2b', 'analytical', 'inherently', 'using', 'passionate', 'economics', 'sql', 'facilitate', 'variance', 'curious', 'preferred', 'self-driven', 'years', 'initiatives', 'fuel', 'drive', 'recommendations', 'ways', 'finance', 'communicate', 'frameworks', 'critical', 'root', 'operations', 'excellent', 'happiness', 'results', 'manner', 'monitor', 'bachelors', 'excel', 'fields', 'build', 'opportunities', 'ability', 'decisions', 'saas', 'scalable', 'code', 'identify', 'key', 'management', 'metrics', 'benchmarks', 'consulting', 'stem', 'technology', 'senior', 'data', 'high', 'product', 'future', 'growth', 'provide', 'mathematics', 'strong', 'cross-functional'}\n"
     ]
    }
   ],
   "source": [
    "print(\"This list contains the all the skills\")\n",
    "print(set_of_skills)\n",
    "#need to get rid of whitespaces in the ist below.\n",
    "\n",
    "#fixed whitespaces at the source.\n",
    "print(\"The list contains my skills\")\n",
    "print(set_of_my_skills)\n",
    "\n",
    "print(\"The list contains job skills\")\n",
    "print(set_of_job_skills)"
   ]
  },
  {
   "cell_type": "markdown",
   "metadata": {},
   "source": [
    "# Creating the scoring pattern\n",
    "## To Do:\n",
    "- Create a bar graph.\n",
    "- Y-Axis as the number of total skills required by the job\n",
    "- X-axis which will display the bar with number of skills I matched.\n",
    "- A second bar to dislay the number of unmatched skills"
   ]
  },
  {
   "cell_type": "code",
   "execution_count": 16,
   "metadata": {},
   "outputs": [
    {
     "data": {
      "image/png": "[encoded data removed]",
      "text/plain": [
       "<matplotlib.figure.Figure at 0x2a3ea149470>"
      ]
     },
     "metadata": {},
     "output_type": "display_data"
    }
   ],
   "source": [
    "objects = ('My Skills', 'Job Skills')\n",
    "y_pos = np.arange(len(objects))\n",
    "performance = [4,25]\n",
    " \n",
    "plt.bar(y_pos, performance, align='center', alpha=0.5)\n",
    "plt.xticks(y_pos, objects)\n",
    "plt.ylabel('Number of keywords')\n",
    "plt.title('Comparing Keywords')\n",
    " \n",
    "plt.show()"
   ]
  },
  {
   "cell_type": "code",
   "execution_count": null,
   "metadata": {},
   "outputs": [],
   "source": []
  }
 ],
 "metadata": {
  "kernelspec": {
   "display_name": "Python 3",
   "language": "python",
   "name": "python3"
  },
  "language_info": {
   "codemirror_mode": {
    "name": "ipython",
    "version": 3
   },
   "file_extension": ".py",
   "mimetype": "text/x-python",
   "name": "python",
   "nbconvert_exporter": "python",
   "pygments_lexer": "ipython3",
   "version": "3.6.4"
  }
 },
 "nbformat": 4,
 "nbformat_minor": 2
}
