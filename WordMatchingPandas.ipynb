{
 "cells": [
  {
   "cell_type": "markdown",
   "metadata": {},
   "source": [
    "## Using Pandas to make comaparisons between the text files:\n",
    "### Things did :\n",
    "- Converted the text file into a CSV with UTF-8 encoding and all lowercase characters.\n",
    "- Created a pandas data frame conerted it into a set to remove duplicate values\n",
    "- Using the '&' operator to return a union of the 2 strings.\n",
    "## Things needed to be done.\n",
    "- Figure aout a way to deal with the job desc skills.\n",
    "- Figure out a way to score and make the project look more appealing.\n"
   ]
  },
  {
   "cell_type": "code",
   "execution_count": 26,
   "metadata": {},
   "outputs": [
    {
     "name": "stdout",
     "output_type": "stream",
     "text": [
      "{'data analysis', 'teamwork', 'web design', 'business intelligence', 'analytics', 'design', 'web development', 'troubleshooting', 'database', 'critical thinking', 'data science'}\n",
      "The length of the set is: 11\n",
      "183\n"
     ]
    }
   ],
   "source": [
    "import pandas as pd\n",
    "#import the list_of_skills.csv file into pandas df\n",
    "listofskills = pd.read_csv('C:\\\\Users\\\\kats1\\\\Desktop\\\\Blacboard\\\\Python\\\\list_of_skills.csv',encoding='utf-8',header=None)\n",
    "#convert the df into a set to remove any duplicates\n",
    "set_of_skills = set(listofskills.iloc[0,])\n",
    "#import the skills.csv file into pandas df\n",
    "myskills = pd.read_csv('C:\\\\Users\\\\kats1\\\\Desktop\\\\Blacboard\\\\Python\\\\skills.csv',encoding='utf-8',header=None)\n",
    "set_of_my_skills = set(myskills.iloc[0,])\n",
    "comparison = set_of_my_skills & set_of_skills\n",
    "print(comparison)\n",
    "print(\"The length of the set is: {lent}\".format(lent= len(comparison)))\n",
    "print(len(set_of_skills))\n",
    "\n"
   ]
  },
  {
   "cell_type": "code",
   "execution_count": null,
   "metadata": {},
   "outputs": [],
   "source": []
  }
 ],
 "metadata": {
  "kernelspec": {
   "display_name": "Python 3",
   "language": "python",
   "name": "python3"
  },
  "language_info": {
   "codemirror_mode": {
    "name": "ipython",
    "version": 3
   },
   "file_extension": ".py",
   "mimetype": "text/x-python",
   "name": "python",
   "nbconvert_exporter": "python",
   "pygments_lexer": "ipython3",
   "version": "3.6.4"
  }
 },
 "nbformat": 4,
 "nbformat_minor": 2
}
